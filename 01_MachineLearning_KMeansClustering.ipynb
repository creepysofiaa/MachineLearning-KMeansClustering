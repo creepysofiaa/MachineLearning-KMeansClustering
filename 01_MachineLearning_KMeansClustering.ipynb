{
 "metadata": {
  "language_info": {
   "codemirror_mode": {
    "name": "ipython",
    "version": 3
   },
   "file_extension": ".py",
   "mimetype": "text/x-python",
   "name": "python",
   "nbconvert_exporter": "python",
   "pygments_lexer": "ipython3",
   "version": "3.7.6-final"
  },
  "orig_nbformat": 2,
  "kernelspec": {
   "name": "Python 3.7.6 64-bit ('base': conda)",
   "display_name": "Python 3.7.6 64-bit ('base': conda)",
   "metadata": {
    "interpreter": {
     "hash": "dca0ade3e726a953b501b15e8e990130d2b7799f14cfd9f4271676035ebe5511"
    }
   }
  }
 },
 "nbformat": 4,
 "nbformat_minor": 2,
 "cells": [
  {
   "cell_type": "code",
   "execution_count": 2,
   "metadata": {},
   "outputs": [],
   "source": [
    "import pandas as pd\n",
    "import seaborn as sns\n",
    "\n",
    "df=pd.read_csv(\"Speed_Dating_Data.csv\")"
   ]
  },
  {
   "cell_type": "code",
   "execution_count": 3,
   "metadata": {},
   "outputs": [
    {
     "output_type": "stream",
     "name": "stdout",
     "text": [
      "(8378, 195)\n"
     ]
    }
   ],
   "source": [
    "print(df.shape)"
   ]
  },
  {
   "cell_type": "code",
   "execution_count": 4,
   "metadata": {},
   "outputs": [],
   "source": [
    "#Select Important Features for later Feature Selection\n",
    "df_select=df[['iid','gender', 'age', 'imprace', 'imprelig', 'goal', 'date',\n",
    "       'go_out', 'sports', 'tvsports', 'exercise', 'dining', 'museums', 'art',\n",
    "       'hiking', 'gaming', 'clubbing', 'reading', 'tv', 'theater', 'movies',\n",
    "       'concerts', 'music', 'shopping', 'yoga', 'exphappy', 'attr3_1',\n",
    "       'sinc3_1', 'fun3_1', 'intel3_1', 'amb3_1']]"
   ]
  },
  {
   "cell_type": "code",
   "execution_count": 124,
   "metadata": {},
   "outputs": [
    {
     "output_type": "execute_result",
     "data": {
      "text/plain": [
       "iid           0\n",
       "gender        0\n",
       "age          95\n",
       "imprace      79\n",
       "imprelig     79\n",
       "goal         79\n",
       "date         97\n",
       "go_out       79\n",
       "sports       79\n",
       "tvsports     79\n",
       "exercise     79\n",
       "dining       79\n",
       "museums      79\n",
       "art          79\n",
       "hiking       79\n",
       "gaming       79\n",
       "clubbing     79\n",
       "reading      79\n",
       "tv           79\n",
       "theater      79\n",
       "movies       79\n",
       "concerts     79\n",
       "music        79\n",
       "shopping     79\n",
       "yoga         79\n",
       "exphappy    101\n",
       "attr3_1     105\n",
       "sinc3_1     105\n",
       "fun3_1      105\n",
       "intel3_1    105\n",
       "amb3_1      105\n",
       "dtype: int64"
      ]
     },
     "metadata": {},
     "execution_count": 124
    }
   ],
   "source": [
    "#Find & Visualize Missing Values\n",
    "df_select.isnull().sum()"
   ]
  },
  {
   "cell_type": "code",
   "execution_count": 6,
   "metadata": {},
   "outputs": [],
   "source": [
    "#Separate into Male & Female Datasets\n",
    "df_female=df_select[df_select[\"gender\"]==0].groupby(\"iid\", as_index=False).mean()\n",
    "df_male=df_select[df_select[\"gender\"]==1].groupby(\"iid\", as_index=False).mean()"
   ]
  },
  {
   "cell_type": "code",
   "execution_count": 117,
   "metadata": {},
   "outputs": [
    {
     "output_type": "execute_result",
     "data": {
      "text/plain": [
       "   iid  gender   age  imprace  imprelig  goal  date  go_out  sports  tvsports  \\\n",
       "0    1       0  21.0      2.0       4.0   2.0   7.0     1.0     9.0       2.0   \n",
       "1    2       0  24.0      2.0       5.0   1.0   5.0     1.0     3.0       2.0   \n",
       "2    3       0  25.0      8.0       4.0   6.0   3.0     1.0     3.0       8.0   \n",
       "3    4       0  23.0      1.0       1.0   1.0   5.0     1.0     1.0       1.0   \n",
       "4    5       0  21.0      8.0       1.0   2.0   4.0     1.0     7.0       4.0   \n",
       "\n",
       "   ...  concerts  music  shopping  yoga  exphappy  attr3_1  sinc3_1  fun3_1  \\\n",
       "0  ...      10.0    9.0       8.0   1.0       3.0      6.0      8.0     8.0   \n",
       "1  ...       7.0    8.0       3.0   1.0       4.0      7.0      5.0    10.0   \n",
       "2  ...       7.0    5.0       8.0   7.0       4.0      8.0      9.0     8.0   \n",
       "3  ...       8.0    7.0       1.0   8.0       1.0      7.0      8.0     9.0   \n",
       "4  ...       3.0    7.0       8.0   3.0       7.0      6.0      3.0     6.0   \n",
       "\n",
       "   intel3_1  amb3_1  \n",
       "0       8.0     7.0  \n",
       "1       8.0     3.0  \n",
       "2       9.0     8.0  \n",
       "3       7.0     8.0  \n",
       "4      10.0     8.0  \n",
       "\n",
       "[5 rows x 31 columns]"
      ],
      "text/html": "<div>\n<style scoped>\n    .dataframe tbody tr th:only-of-type {\n        vertical-align: middle;\n    }\n\n    .dataframe tbody tr th {\n        vertical-align: top;\n    }\n\n    .dataframe thead th {\n        text-align: right;\n    }\n</style>\n<table border=\"1\" class=\"dataframe\">\n  <thead>\n    <tr style=\"text-align: right;\">\n      <th></th>\n      <th>iid</th>\n      <th>gender</th>\n      <th>age</th>\n      <th>imprace</th>\n      <th>imprelig</th>\n      <th>goal</th>\n      <th>date</th>\n      <th>go_out</th>\n      <th>sports</th>\n      <th>tvsports</th>\n      <th>...</th>\n      <th>concerts</th>\n      <th>music</th>\n      <th>shopping</th>\n      <th>yoga</th>\n      <th>exphappy</th>\n      <th>attr3_1</th>\n      <th>sinc3_1</th>\n      <th>fun3_1</th>\n      <th>intel3_1</th>\n      <th>amb3_1</th>\n    </tr>\n  </thead>\n  <tbody>\n    <tr>\n      <th>0</th>\n      <td>1</td>\n      <td>0</td>\n      <td>21.0</td>\n      <td>2.0</td>\n      <td>4.0</td>\n      <td>2.0</td>\n      <td>7.0</td>\n      <td>1.0</td>\n      <td>9.0</td>\n      <td>2.0</td>\n      <td>...</td>\n      <td>10.0</td>\n      <td>9.0</td>\n      <td>8.0</td>\n      <td>1.0</td>\n      <td>3.0</td>\n      <td>6.0</td>\n      <td>8.0</td>\n      <td>8.0</td>\n      <td>8.0</td>\n      <td>7.0</td>\n    </tr>\n    <tr>\n      <th>1</th>\n      <td>2</td>\n      <td>0</td>\n      <td>24.0</td>\n      <td>2.0</td>\n      <td>5.0</td>\n      <td>1.0</td>\n      <td>5.0</td>\n      <td>1.0</td>\n      <td>3.0</td>\n      <td>2.0</td>\n      <td>...</td>\n      <td>7.0</td>\n      <td>8.0</td>\n      <td>3.0</td>\n      <td>1.0</td>\n      <td>4.0</td>\n      <td>7.0</td>\n      <td>5.0</td>\n      <td>10.0</td>\n      <td>8.0</td>\n      <td>3.0</td>\n    </tr>\n    <tr>\n      <th>2</th>\n      <td>3</td>\n      <td>0</td>\n      <td>25.0</td>\n      <td>8.0</td>\n      <td>4.0</td>\n      <td>6.0</td>\n      <td>3.0</td>\n      <td>1.0</td>\n      <td>3.0</td>\n      <td>8.0</td>\n      <td>...</td>\n      <td>7.0</td>\n      <td>5.0</td>\n      <td>8.0</td>\n      <td>7.0</td>\n      <td>4.0</td>\n      <td>8.0</td>\n      <td>9.0</td>\n      <td>8.0</td>\n      <td>9.0</td>\n      <td>8.0</td>\n    </tr>\n    <tr>\n      <th>3</th>\n      <td>4</td>\n      <td>0</td>\n      <td>23.0</td>\n      <td>1.0</td>\n      <td>1.0</td>\n      <td>1.0</td>\n      <td>5.0</td>\n      <td>1.0</td>\n      <td>1.0</td>\n      <td>1.0</td>\n      <td>...</td>\n      <td>8.0</td>\n      <td>7.0</td>\n      <td>1.0</td>\n      <td>8.0</td>\n      <td>1.0</td>\n      <td>7.0</td>\n      <td>8.0</td>\n      <td>9.0</td>\n      <td>7.0</td>\n      <td>8.0</td>\n    </tr>\n    <tr>\n      <th>4</th>\n      <td>5</td>\n      <td>0</td>\n      <td>21.0</td>\n      <td>8.0</td>\n      <td>1.0</td>\n      <td>2.0</td>\n      <td>4.0</td>\n      <td>1.0</td>\n      <td>7.0</td>\n      <td>4.0</td>\n      <td>...</td>\n      <td>3.0</td>\n      <td>7.0</td>\n      <td>8.0</td>\n      <td>3.0</td>\n      <td>7.0</td>\n      <td>6.0</td>\n      <td>3.0</td>\n      <td>6.0</td>\n      <td>10.0</td>\n      <td>8.0</td>\n    </tr>\n  </tbody>\n</table>\n<p>5 rows × 31 columns</p>\n</div>"
     },
     "metadata": {},
     "execution_count": 117
    }
   ],
   "source": [
    "df_female.head()"
   ]
  },
  {
   "cell_type": "code",
   "execution_count": 118,
   "metadata": {},
   "outputs": [
    {
     "output_type": "execute_result",
     "data": {
      "text/plain": [
       "   iid  gender   age  imprace  imprelig  goal  date  go_out  sports  tvsports  \\\n",
       "0   11       1  27.0      7.0       3.0   1.0   5.0     4.0     8.0       7.0   \n",
       "1   12       1  22.0      1.0       1.0   1.0   1.0     1.0     9.0       7.0   \n",
       "2   13       1  22.0      3.0       5.0   2.0   7.0     1.0     7.0       8.0   \n",
       "3   14       1  23.0      1.0       1.0   2.0   4.0     1.0    10.0       6.0   \n",
       "4   15       1  24.0      3.0       1.0   1.0   4.0     1.0     9.0       7.0   \n",
       "\n",
       "   ...  concerts  music  shopping  yoga  exphappy  attr3_1  sinc3_1  fun3_1  \\\n",
       "0  ...       7.0    8.0       5.0   1.0       7.0      8.0      9.0     7.0   \n",
       "1  ...       7.0    9.0       5.0   5.0       7.0      9.0      9.0     9.0   \n",
       "2  ...       9.0    9.0       8.0   1.0       3.0      4.0      7.0     8.0   \n",
       "3  ...       6.0    8.0       6.0   1.0       8.0      9.0      9.0     9.0   \n",
       "4  ...       6.0    7.0       2.0   1.0       5.0      7.0      7.0     7.0   \n",
       "\n",
       "   intel3_1  amb3_1  \n",
       "0       8.0     5.0  \n",
       "1      10.0     9.0  \n",
       "2       8.0     3.0  \n",
       "3       9.0     9.0  \n",
       "4       9.0     9.0  \n",
       "\n",
       "[5 rows x 31 columns]"
      ],
      "text/html": "<div>\n<style scoped>\n    .dataframe tbody tr th:only-of-type {\n        vertical-align: middle;\n    }\n\n    .dataframe tbody tr th {\n        vertical-align: top;\n    }\n\n    .dataframe thead th {\n        text-align: right;\n    }\n</style>\n<table border=\"1\" class=\"dataframe\">\n  <thead>\n    <tr style=\"text-align: right;\">\n      <th></th>\n      <th>iid</th>\n      <th>gender</th>\n      <th>age</th>\n      <th>imprace</th>\n      <th>imprelig</th>\n      <th>goal</th>\n      <th>date</th>\n      <th>go_out</th>\n      <th>sports</th>\n      <th>tvsports</th>\n      <th>...</th>\n      <th>concerts</th>\n      <th>music</th>\n      <th>shopping</th>\n      <th>yoga</th>\n      <th>exphappy</th>\n      <th>attr3_1</th>\n      <th>sinc3_1</th>\n      <th>fun3_1</th>\n      <th>intel3_1</th>\n      <th>amb3_1</th>\n    </tr>\n  </thead>\n  <tbody>\n    <tr>\n      <th>0</th>\n      <td>11</td>\n      <td>1</td>\n      <td>27.0</td>\n      <td>7.0</td>\n      <td>3.0</td>\n      <td>1.0</td>\n      <td>5.0</td>\n      <td>4.0</td>\n      <td>8.0</td>\n      <td>7.0</td>\n      <td>...</td>\n      <td>7.0</td>\n      <td>8.0</td>\n      <td>5.0</td>\n      <td>1.0</td>\n      <td>7.0</td>\n      <td>8.0</td>\n      <td>9.0</td>\n      <td>7.0</td>\n      <td>8.0</td>\n      <td>5.0</td>\n    </tr>\n    <tr>\n      <th>1</th>\n      <td>12</td>\n      <td>1</td>\n      <td>22.0</td>\n      <td>1.0</td>\n      <td>1.0</td>\n      <td>1.0</td>\n      <td>1.0</td>\n      <td>1.0</td>\n      <td>9.0</td>\n      <td>7.0</td>\n      <td>...</td>\n      <td>7.0</td>\n      <td>9.0</td>\n      <td>5.0</td>\n      <td>5.0</td>\n      <td>7.0</td>\n      <td>9.0</td>\n      <td>9.0</td>\n      <td>9.0</td>\n      <td>10.0</td>\n      <td>9.0</td>\n    </tr>\n    <tr>\n      <th>2</th>\n      <td>13</td>\n      <td>1</td>\n      <td>22.0</td>\n      <td>3.0</td>\n      <td>5.0</td>\n      <td>2.0</td>\n      <td>7.0</td>\n      <td>1.0</td>\n      <td>7.0</td>\n      <td>8.0</td>\n      <td>...</td>\n      <td>9.0</td>\n      <td>9.0</td>\n      <td>8.0</td>\n      <td>1.0</td>\n      <td>3.0</td>\n      <td>4.0</td>\n      <td>7.0</td>\n      <td>8.0</td>\n      <td>8.0</td>\n      <td>3.0</td>\n    </tr>\n    <tr>\n      <th>3</th>\n      <td>14</td>\n      <td>1</td>\n      <td>23.0</td>\n      <td>1.0</td>\n      <td>1.0</td>\n      <td>2.0</td>\n      <td>4.0</td>\n      <td>1.0</td>\n      <td>10.0</td>\n      <td>6.0</td>\n      <td>...</td>\n      <td>6.0</td>\n      <td>8.0</td>\n      <td>6.0</td>\n      <td>1.0</td>\n      <td>8.0</td>\n      <td>9.0</td>\n      <td>9.0</td>\n      <td>9.0</td>\n      <td>9.0</td>\n      <td>9.0</td>\n    </tr>\n    <tr>\n      <th>4</th>\n      <td>15</td>\n      <td>1</td>\n      <td>24.0</td>\n      <td>3.0</td>\n      <td>1.0</td>\n      <td>1.0</td>\n      <td>4.0</td>\n      <td>1.0</td>\n      <td>9.0</td>\n      <td>7.0</td>\n      <td>...</td>\n      <td>6.0</td>\n      <td>7.0</td>\n      <td>2.0</td>\n      <td>1.0</td>\n      <td>5.0</td>\n      <td>7.0</td>\n      <td>7.0</td>\n      <td>7.0</td>\n      <td>9.0</td>\n      <td>9.0</td>\n    </tr>\n  </tbody>\n</table>\n<p>5 rows × 31 columns</p>\n</div>"
     },
     "metadata": {},
     "execution_count": 118
    }
   ],
   "source": [
    "df_male.head()"
   ]
  },
  {
   "cell_type": "code",
   "execution_count": 7,
   "metadata": {},
   "outputs": [],
   "source": [
    "#Impute Missing Values\n",
    "from sklearn.impute import SimpleImputer\n",
    "import numpy as np\n",
    "\n",
    "imputer=SimpleImputer(missing_values=np.nan, strategy='mean')\n",
    "df_female_impute=imputer.fit_transform(df_female)"
   ]
  },
  {
   "cell_type": "code",
   "execution_count": 8,
   "metadata": {},
   "outputs": [],
   "source": [
    "imputer=SimpleImputer(missing_values=np.nan, strategy='mean')\n",
    "df_male_impute=imputer.fit_transform(df_male)"
   ]
  },
  {
   "cell_type": "code",
   "execution_count": 9,
   "metadata": {},
   "outputs": [],
   "source": [
    "#Put matrix info into dataframe format\n",
    "df_female_imputed=pd.DataFrame(df_female_impute)\n",
    "\n",
    "#Rename column name\n",
    "df_female_imputed.columns=df_female.columns"
   ]
  },
  {
   "cell_type": "code",
   "execution_count": 10,
   "metadata": {},
   "outputs": [],
   "source": [
    "#Put matrix info into dataframe format\n",
    "df_male_imputed=pd.DataFrame(df_male_impute)\n",
    "\n",
    "#Rename column name\n",
    "df_male_imputed.columns=df_male.columns"
   ]
  },
  {
   "cell_type": "code",
   "execution_count": 11,
   "metadata": {},
   "outputs": [],
   "source": [
    "#Reset Index\n",
    "df_female_model=df_female_imputed.groupby(\"iid\").mean()\n",
    "df_male_model=df_male_imputed.groupby(\"iid\").mean()"
   ]
  },
  {
   "cell_type": "code",
   "execution_count": 119,
   "metadata": {},
   "outputs": [
    {
     "output_type": "execute_result",
     "data": {
      "text/plain": [
       "     gender   age  imprace  imprelig  goal  date  go_out  sports  tvsports  \\\n",
       "iid                                                                          \n",
       "1.0     0.0  21.0      2.0       4.0   2.0   7.0     1.0     9.0       2.0   \n",
       "2.0     0.0  24.0      2.0       5.0   1.0   5.0     1.0     3.0       2.0   \n",
       "3.0     0.0  25.0      8.0       4.0   6.0   3.0     1.0     3.0       8.0   \n",
       "4.0     0.0  23.0      1.0       1.0   1.0   5.0     1.0     1.0       1.0   \n",
       "5.0     0.0  21.0      8.0       1.0   2.0   4.0     1.0     7.0       4.0   \n",
       "\n",
       "     exercise  ...  concerts  music  shopping  yoga  exphappy  attr3_1  \\\n",
       "iid            ...                                                       \n",
       "1.0       8.0  ...      10.0    9.0       8.0   1.0       3.0      6.0   \n",
       "2.0       7.0  ...       7.0    8.0       3.0   1.0       4.0      7.0   \n",
       "3.0       7.0  ...       7.0    5.0       8.0   7.0       4.0      8.0   \n",
       "4.0       6.0  ...       8.0    7.0       1.0   8.0       1.0      7.0   \n",
       "5.0       7.0  ...       3.0    7.0       8.0   3.0       7.0      6.0   \n",
       "\n",
       "     sinc3_1  fun3_1  intel3_1  amb3_1  \n",
       "iid                                     \n",
       "1.0      8.0     8.0       8.0     7.0  \n",
       "2.0      5.0    10.0       8.0     3.0  \n",
       "3.0      9.0     8.0       9.0     8.0  \n",
       "4.0      8.0     9.0       7.0     8.0  \n",
       "5.0      3.0     6.0      10.0     8.0  \n",
       "\n",
       "[5 rows x 30 columns]"
      ],
      "text/html": "<div>\n<style scoped>\n    .dataframe tbody tr th:only-of-type {\n        vertical-align: middle;\n    }\n\n    .dataframe tbody tr th {\n        vertical-align: top;\n    }\n\n    .dataframe thead th {\n        text-align: right;\n    }\n</style>\n<table border=\"1\" class=\"dataframe\">\n  <thead>\n    <tr style=\"text-align: right;\">\n      <th></th>\n      <th>gender</th>\n      <th>age</th>\n      <th>imprace</th>\n      <th>imprelig</th>\n      <th>goal</th>\n      <th>date</th>\n      <th>go_out</th>\n      <th>sports</th>\n      <th>tvsports</th>\n      <th>exercise</th>\n      <th>...</th>\n      <th>concerts</th>\n      <th>music</th>\n      <th>shopping</th>\n      <th>yoga</th>\n      <th>exphappy</th>\n      <th>attr3_1</th>\n      <th>sinc3_1</th>\n      <th>fun3_1</th>\n      <th>intel3_1</th>\n      <th>amb3_1</th>\n    </tr>\n    <tr>\n      <th>iid</th>\n      <th></th>\n      <th></th>\n      <th></th>\n      <th></th>\n      <th></th>\n      <th></th>\n      <th></th>\n      <th></th>\n      <th></th>\n      <th></th>\n      <th></th>\n      <th></th>\n      <th></th>\n      <th></th>\n      <th></th>\n      <th></th>\n      <th></th>\n      <th></th>\n      <th></th>\n      <th></th>\n      <th></th>\n    </tr>\n  </thead>\n  <tbody>\n    <tr>\n      <th>1.0</th>\n      <td>0.0</td>\n      <td>21.0</td>\n      <td>2.0</td>\n      <td>4.0</td>\n      <td>2.0</td>\n      <td>7.0</td>\n      <td>1.0</td>\n      <td>9.0</td>\n      <td>2.0</td>\n      <td>8.0</td>\n      <td>...</td>\n      <td>10.0</td>\n      <td>9.0</td>\n      <td>8.0</td>\n      <td>1.0</td>\n      <td>3.0</td>\n      <td>6.0</td>\n      <td>8.0</td>\n      <td>8.0</td>\n      <td>8.0</td>\n      <td>7.0</td>\n    </tr>\n    <tr>\n      <th>2.0</th>\n      <td>0.0</td>\n      <td>24.0</td>\n      <td>2.0</td>\n      <td>5.0</td>\n      <td>1.0</td>\n      <td>5.0</td>\n      <td>1.0</td>\n      <td>3.0</td>\n      <td>2.0</td>\n      <td>7.0</td>\n      <td>...</td>\n      <td>7.0</td>\n      <td>8.0</td>\n      <td>3.0</td>\n      <td>1.0</td>\n      <td>4.0</td>\n      <td>7.0</td>\n      <td>5.0</td>\n      <td>10.0</td>\n      <td>8.0</td>\n      <td>3.0</td>\n    </tr>\n    <tr>\n      <th>3.0</th>\n      <td>0.0</td>\n      <td>25.0</td>\n      <td>8.0</td>\n      <td>4.0</td>\n      <td>6.0</td>\n      <td>3.0</td>\n      <td>1.0</td>\n      <td>3.0</td>\n      <td>8.0</td>\n      <td>7.0</td>\n      <td>...</td>\n      <td>7.0</td>\n      <td>5.0</td>\n      <td>8.0</td>\n      <td>7.0</td>\n      <td>4.0</td>\n      <td>8.0</td>\n      <td>9.0</td>\n      <td>8.0</td>\n      <td>9.0</td>\n      <td>8.0</td>\n    </tr>\n    <tr>\n      <th>4.0</th>\n      <td>0.0</td>\n      <td>23.0</td>\n      <td>1.0</td>\n      <td>1.0</td>\n      <td>1.0</td>\n      <td>5.0</td>\n      <td>1.0</td>\n      <td>1.0</td>\n      <td>1.0</td>\n      <td>6.0</td>\n      <td>...</td>\n      <td>8.0</td>\n      <td>7.0</td>\n      <td>1.0</td>\n      <td>8.0</td>\n      <td>1.0</td>\n      <td>7.0</td>\n      <td>8.0</td>\n      <td>9.0</td>\n      <td>7.0</td>\n      <td>8.0</td>\n    </tr>\n    <tr>\n      <th>5.0</th>\n      <td>0.0</td>\n      <td>21.0</td>\n      <td>8.0</td>\n      <td>1.0</td>\n      <td>2.0</td>\n      <td>4.0</td>\n      <td>1.0</td>\n      <td>7.0</td>\n      <td>4.0</td>\n      <td>7.0</td>\n      <td>...</td>\n      <td>3.0</td>\n      <td>7.0</td>\n      <td>8.0</td>\n      <td>3.0</td>\n      <td>7.0</td>\n      <td>6.0</td>\n      <td>3.0</td>\n      <td>6.0</td>\n      <td>10.0</td>\n      <td>8.0</td>\n    </tr>\n  </tbody>\n</table>\n<p>5 rows × 30 columns</p>\n</div>"
     },
     "metadata": {},
     "execution_count": 119
    }
   ],
   "source": [
    "df_female_model.head()"
   ]
  },
  {
   "cell_type": "code",
   "execution_count": 120,
   "metadata": {},
   "outputs": [
    {
     "output_type": "execute_result",
     "data": {
      "text/plain": [
       "      gender   age  imprace  imprelig  goal  date  go_out  sports  tvsports  \\\n",
       "iid                                                                           \n",
       "11.0     1.0  27.0      7.0       3.0   1.0   5.0     4.0     8.0       7.0   \n",
       "12.0     1.0  22.0      1.0       1.0   1.0   1.0     1.0     9.0       7.0   \n",
       "13.0     1.0  22.0      3.0       5.0   2.0   7.0     1.0     7.0       8.0   \n",
       "14.0     1.0  23.0      1.0       1.0   2.0   4.0     1.0    10.0       6.0   \n",
       "15.0     1.0  24.0      3.0       1.0   1.0   4.0     1.0     9.0       7.0   \n",
       "\n",
       "      exercise  ...  concerts  music  shopping  yoga  exphappy  attr3_1  \\\n",
       "iid             ...                                                       \n",
       "11.0       2.0  ...       7.0    8.0       5.0   1.0       7.0      8.0   \n",
       "12.0       9.0  ...       7.0    9.0       5.0   5.0       7.0      9.0   \n",
       "13.0       2.0  ...       9.0    9.0       8.0   1.0       3.0      4.0   \n",
       "14.0       8.0  ...       6.0    8.0       6.0   1.0       8.0      9.0   \n",
       "15.0       9.0  ...       6.0    7.0       2.0   1.0       5.0      7.0   \n",
       "\n",
       "      sinc3_1  fun3_1  intel3_1  amb3_1  \n",
       "iid                                      \n",
       "11.0      9.0     7.0       8.0     5.0  \n",
       "12.0      9.0     9.0      10.0     9.0  \n",
       "13.0      7.0     8.0       8.0     3.0  \n",
       "14.0      9.0     9.0       9.0     9.0  \n",
       "15.0      7.0     7.0       9.0     9.0  \n",
       "\n",
       "[5 rows x 30 columns]"
      ],
      "text/html": "<div>\n<style scoped>\n    .dataframe tbody tr th:only-of-type {\n        vertical-align: middle;\n    }\n\n    .dataframe tbody tr th {\n        vertical-align: top;\n    }\n\n    .dataframe thead th {\n        text-align: right;\n    }\n</style>\n<table border=\"1\" class=\"dataframe\">\n  <thead>\n    <tr style=\"text-align: right;\">\n      <th></th>\n      <th>gender</th>\n      <th>age</th>\n      <th>imprace</th>\n      <th>imprelig</th>\n      <th>goal</th>\n      <th>date</th>\n      <th>go_out</th>\n      <th>sports</th>\n      <th>tvsports</th>\n      <th>exercise</th>\n      <th>...</th>\n      <th>concerts</th>\n      <th>music</th>\n      <th>shopping</th>\n      <th>yoga</th>\n      <th>exphappy</th>\n      <th>attr3_1</th>\n      <th>sinc3_1</th>\n      <th>fun3_1</th>\n      <th>intel3_1</th>\n      <th>amb3_1</th>\n    </tr>\n    <tr>\n      <th>iid</th>\n      <th></th>\n      <th></th>\n      <th></th>\n      <th></th>\n      <th></th>\n      <th></th>\n      <th></th>\n      <th></th>\n      <th></th>\n      <th></th>\n      <th></th>\n      <th></th>\n      <th></th>\n      <th></th>\n      <th></th>\n      <th></th>\n      <th></th>\n      <th></th>\n      <th></th>\n      <th></th>\n      <th></th>\n    </tr>\n  </thead>\n  <tbody>\n    <tr>\n      <th>11.0</th>\n      <td>1.0</td>\n      <td>27.0</td>\n      <td>7.0</td>\n      <td>3.0</td>\n      <td>1.0</td>\n      <td>5.0</td>\n      <td>4.0</td>\n      <td>8.0</td>\n      <td>7.0</td>\n      <td>2.0</td>\n      <td>...</td>\n      <td>7.0</td>\n      <td>8.0</td>\n      <td>5.0</td>\n      <td>1.0</td>\n      <td>7.0</td>\n      <td>8.0</td>\n      <td>9.0</td>\n      <td>7.0</td>\n      <td>8.0</td>\n      <td>5.0</td>\n    </tr>\n    <tr>\n      <th>12.0</th>\n      <td>1.0</td>\n      <td>22.0</td>\n      <td>1.0</td>\n      <td>1.0</td>\n      <td>1.0</td>\n      <td>1.0</td>\n      <td>1.0</td>\n      <td>9.0</td>\n      <td>7.0</td>\n      <td>9.0</td>\n      <td>...</td>\n      <td>7.0</td>\n      <td>9.0</td>\n      <td>5.0</td>\n      <td>5.0</td>\n      <td>7.0</td>\n      <td>9.0</td>\n      <td>9.0</td>\n      <td>9.0</td>\n      <td>10.0</td>\n      <td>9.0</td>\n    </tr>\n    <tr>\n      <th>13.0</th>\n      <td>1.0</td>\n      <td>22.0</td>\n      <td>3.0</td>\n      <td>5.0</td>\n      <td>2.0</td>\n      <td>7.0</td>\n      <td>1.0</td>\n      <td>7.0</td>\n      <td>8.0</td>\n      <td>2.0</td>\n      <td>...</td>\n      <td>9.0</td>\n      <td>9.0</td>\n      <td>8.0</td>\n      <td>1.0</td>\n      <td>3.0</td>\n      <td>4.0</td>\n      <td>7.0</td>\n      <td>8.0</td>\n      <td>8.0</td>\n      <td>3.0</td>\n    </tr>\n    <tr>\n      <th>14.0</th>\n      <td>1.0</td>\n      <td>23.0</td>\n      <td>1.0</td>\n      <td>1.0</td>\n      <td>2.0</td>\n      <td>4.0</td>\n      <td>1.0</td>\n      <td>10.0</td>\n      <td>6.0</td>\n      <td>8.0</td>\n      <td>...</td>\n      <td>6.0</td>\n      <td>8.0</td>\n      <td>6.0</td>\n      <td>1.0</td>\n      <td>8.0</td>\n      <td>9.0</td>\n      <td>9.0</td>\n      <td>9.0</td>\n      <td>9.0</td>\n      <td>9.0</td>\n    </tr>\n    <tr>\n      <th>15.0</th>\n      <td>1.0</td>\n      <td>24.0</td>\n      <td>3.0</td>\n      <td>1.0</td>\n      <td>1.0</td>\n      <td>4.0</td>\n      <td>1.0</td>\n      <td>9.0</td>\n      <td>7.0</td>\n      <td>9.0</td>\n      <td>...</td>\n      <td>6.0</td>\n      <td>7.0</td>\n      <td>2.0</td>\n      <td>1.0</td>\n      <td>5.0</td>\n      <td>7.0</td>\n      <td>7.0</td>\n      <td>7.0</td>\n      <td>9.0</td>\n      <td>9.0</td>\n    </tr>\n  </tbody>\n</table>\n<p>5 rows × 30 columns</p>\n</div>"
     },
     "metadata": {},
     "execution_count": 120
    }
   ],
   "source": [
    "df_male_model.head()"
   ]
  },
  {
   "cell_type": "code",
   "execution_count": 12,
   "metadata": {},
   "outputs": [],
   "source": [
    "#Standard Scaling of Female Set\n",
    "from sklearn.preprocessing import StandardScaler\n",
    "scaler = StandardScaler()\n",
    "rescaled = scaler.fit_transform(df_female_model)\n",
    "\n",
    "df_train_f=pd.DataFrame(rescaled)\n",
    "\n",
    "#Rename column names\n",
    "df_train_f.columns = df_female_model.columns\n",
    "\n",
    "#Reset index\n",
    "df_train_f.index+=1\n",
    "\n",
    "#Standard Scaling of Male Set\n",
    "from sklearn.preprocessing import StandardScaler\n",
    "scaler = StandardScaler()\n",
    "rescaled = scaler.fit_transform(df_male_model)\n",
    "\n",
    "df_train_m=pd.DataFrame(rescaled)\n",
    "\n",
    "#Rename column names\n",
    "df_train_m.columns = df_male_model.columns\n",
    "\n",
    "#Reset index\n",
    "df_train_m.index+=1"
   ]
  },
  {
   "cell_type": "code",
   "execution_count": 13,
   "metadata": {},
   "outputs": [],
   "source": [
    "#Try female, with all 10 combination\n",
    "from sklearn.cluster import KMeans\n",
    "from sklearn.metrics import silhouette_score\n",
    "import itertools\n",
    "\n",
    "#Change tuple into List (x is tuple)\n",
    "def tolist(x):\n",
    "    lst = []\n",
    "    for i in x:\n",
    "        lst.append(i)\n",
    "    return lst\n",
    "\n",
    "#Empty List to store interest combinations & silhouette score\n",
    "interest_f = []\n",
    "score_f = []\n",
    "\n",
    "#Put combinations into Kmeans to find the best combo with highest silhouette score\n",
    "for feature in itertools.combinations(df_train_f.iloc[:,1:-5].columns,3):\n",
    "    df_combo=pd.concat([df_train_f[['attr3_1', 'sinc3_1', 'fun3_1', 'intel3_1', 'amb3_1']],df_train_f.loc[:,tolist(feature)]], axis=1)\n",
    "    km=KMeans(n_clusters=2, random_state=45)\n",
    "    km.fit(df_combo)\n",
    "    \n",
    "    label=','.join(df_combo.columns)+' k='+str(2)\n",
    "    interest_f.append(label)\n",
    "    score_f.append(silhouette_score(df_combo, km.predict(df_combo)))"
   ]
  },
  {
   "cell_type": "code",
   "execution_count": 157,
   "metadata": {},
   "outputs": [
    {
     "output_type": "stream",
     "name": "stdout",
     "text": [
      "[Female]\nMax. Silhouette Score:     0.19567640181118895\nBest-Performing Combo with # of Clusters:    attr3_1,sinc3_1,fun3_1,intel3_1,amb3_1,dining,museums,art k=2\nNumber of Combinations:     2024\n"
     ]
    }
   ],
   "source": [
    "print(\"[Female]\")\n",
    "print(f'Max. Silhouette Score:     {max(score_f)}')\n",
    "print(f'Best-Performing Combo with # of Clusters:    {interest_f[score_f.index(max(score_f))]}')\n",
    "print(f'Number of Combinations:     {len(score_f)}')"
   ]
  },
  {
   "cell_type": "code",
   "execution_count": 14,
   "metadata": {},
   "outputs": [],
   "source": [
    "#Try male, with all 10 combination\n",
    "from sklearn.cluster import KMeans\n",
    "from sklearn.metrics import silhouette_score\n",
    "import itertools\n",
    "\n",
    "#Change tuple into List (x is tuple)\n",
    "def tolist(x):\n",
    "    lst = []\n",
    "    for i in x:\n",
    "        lst.append(i)\n",
    "    return lst\n",
    "\n",
    "#Empty List to store interest combinations & silhouette score\n",
    "interest_m = []\n",
    "score_m = []\n",
    "\n",
    "#Put combinations (except self-perception features) into Kmeans to find the best combo with highest silhouette score\n",
    "for feature in itertools.combinations(df_train_m.iloc[:,1:-5].columns,3):\n",
    "    df_combo=pd.concat([df_train_m[['attr3_1', 'sinc3_1', 'fun3_1', 'intel3_1', 'amb3_1']],df_train_m.loc[:,tolist(feature)]], axis=1)\n",
    "    km=KMeans(n_clusters=2, random_state=45)\n",
    "    km.fit(df_combo)\n",
    "    \n",
    "    label=','.join(df_combo.columns)+' k='+str(2)\n",
    "    interest_m.append(label)\n",
    "    score_m.append(silhouette_score(df_combo, km.predict(df_combo)))"
   ]
  },
  {
   "cell_type": "code",
   "execution_count": 158,
   "metadata": {},
   "outputs": [
    {
     "output_type": "stream",
     "name": "stdout",
     "text": [
      "[Male]\nMax. Silhouette Score:     0.24279287609099617\nBest-Performing Combo with # of Clusters:    attr3_1,sinc3_1,fun3_1,intel3_1,amb3_1,date,go_out,dining k=2\nNumber of Combinations:     2024\n"
     ]
    }
   ],
   "source": [
    "print(\"[Male]\")\n",
    "print(f'Max. Silhouette Score:     {max(score_m)}')\n",
    "print(f'Best-Performing Combo with # of Clusters:    {interest_m[score_m.index(max(score_m))]}')\n",
    "print(f'Number of Combinations:     {len(score_m)}')"
   ]
  },
  {
   "cell_type": "code",
   "execution_count": 15,
   "metadata": {},
   "outputs": [],
   "source": [
    "#Reduce Dimensions in Remaining Features - Female\n",
    "#Female: attr3_1,sinc3_1,fun3_1,intel3_1,amb3_1,dining,museums,art k=2\n",
    "\n",
    "from sklearn.decomposition import PCA\n",
    "pca = PCA(n_components=2)\n",
    "\n",
    "df_features_pca_f=df_train_f[['age', 'imprace', 'imprelig', 'goal', 'date','go_out', 'sports', 'tvsports', 'exercise', 'hiking', 'gaming', 'clubbing', 'reading', 'tv', 'theater', 'movies','concerts', 'music', 'shopping', 'yoga', 'exphappy']]\n",
    "\n",
    "components=pca.fit_transform(df_features_pca_f)\n",
    "principalDf=pd.DataFrame(data=components, columns=['pca_1','pca_2'])\n",
    "principalDf.index+=1"
   ]
  },
  {
   "cell_type": "code",
   "execution_count": 17,
   "metadata": {},
   "outputs": [],
   "source": [
    "principalDf.index=df_female_model.index"
   ]
  },
  {
   "cell_type": "code",
   "execution_count": 18,
   "metadata": {},
   "outputs": [],
   "source": [
    "#Add PCA Features into Female Dataset\n",
    "df_female_add_pca = pd.concat([df_female_model,principalDf],axis=1)"
   ]
  },
  {
   "cell_type": "code",
   "execution_count": 20,
   "metadata": {},
   "outputs": [],
   "source": [
    "df_female_add_pca.to_csv(\"df_female_add_pca.csv\")"
   ]
  },
  {
   "cell_type": "code",
   "execution_count": 21,
   "metadata": {},
   "outputs": [],
   "source": [
    "#Reduce Dimensions in Remaining Features - Male\n",
    "#Male: attr3_1,sinc3_1,fun3_1,intel3_1,amb3_1,date,go_out,dining k=2\n",
    "\n",
    "from sklearn.decomposition import PCA\n",
    "pca = PCA(n_components=2)\n",
    "\n",
    "df_features_pca_m=df_train_m[['age', 'imprace', 'imprelig', 'goal', 'sports', 'tvsports', 'exercise', 'museums', 'art','hiking', 'gaming', 'clubbing', 'reading', 'tv', 'theater', 'movies','concerts', 'music', 'shopping', 'yoga', 'exphappy']]\n",
    "\n",
    "components=pca.fit_transform(df_features_pca_m)\n",
    "principalDf=pd.DataFrame(data=components, columns=['pca_1','pca_2'])\n",
    "principalDf.index+=1"
   ]
  },
  {
   "cell_type": "code",
   "execution_count": 122,
   "metadata": {},
   "outputs": [
    {
     "output_type": "execute_result",
     "data": {
      "text/plain": [
       "          pca_1     pca_2\n",
       "iid                      \n",
       "11.0   0.518133  0.351959\n",
       "12.0   0.045061 -1.641835\n",
       "13.0  -0.897906 -1.163761\n",
       "14.0   0.896231 -3.246724\n",
       "15.0   0.608790 -1.726577\n",
       "...         ...       ...\n",
       "548.0  2.328547 -0.655678\n",
       "549.0 -2.009034 -1.213913\n",
       "550.0  0.167926  1.385528\n",
       "551.0  1.074975  1.633181\n",
       "552.0 -3.408455  0.360874\n",
       "\n",
       "[277 rows x 2 columns]"
      ],
      "text/html": "<div>\n<style scoped>\n    .dataframe tbody tr th:only-of-type {\n        vertical-align: middle;\n    }\n\n    .dataframe tbody tr th {\n        vertical-align: top;\n    }\n\n    .dataframe thead th {\n        text-align: right;\n    }\n</style>\n<table border=\"1\" class=\"dataframe\">\n  <thead>\n    <tr style=\"text-align: right;\">\n      <th></th>\n      <th>pca_1</th>\n      <th>pca_2</th>\n    </tr>\n    <tr>\n      <th>iid</th>\n      <th></th>\n      <th></th>\n    </tr>\n  </thead>\n  <tbody>\n    <tr>\n      <th>11.0</th>\n      <td>0.518133</td>\n      <td>0.351959</td>\n    </tr>\n    <tr>\n      <th>12.0</th>\n      <td>0.045061</td>\n      <td>-1.641835</td>\n    </tr>\n    <tr>\n      <th>13.0</th>\n      <td>-0.897906</td>\n      <td>-1.163761</td>\n    </tr>\n    <tr>\n      <th>14.0</th>\n      <td>0.896231</td>\n      <td>-3.246724</td>\n    </tr>\n    <tr>\n      <th>15.0</th>\n      <td>0.608790</td>\n      <td>-1.726577</td>\n    </tr>\n    <tr>\n      <th>...</th>\n      <td>...</td>\n      <td>...</td>\n    </tr>\n    <tr>\n      <th>548.0</th>\n      <td>2.328547</td>\n      <td>-0.655678</td>\n    </tr>\n    <tr>\n      <th>549.0</th>\n      <td>-2.009034</td>\n      <td>-1.213913</td>\n    </tr>\n    <tr>\n      <th>550.0</th>\n      <td>0.167926</td>\n      <td>1.385528</td>\n    </tr>\n    <tr>\n      <th>551.0</th>\n      <td>1.074975</td>\n      <td>1.633181</td>\n    </tr>\n    <tr>\n      <th>552.0</th>\n      <td>-3.408455</td>\n      <td>0.360874</td>\n    </tr>\n  </tbody>\n</table>\n<p>277 rows × 2 columns</p>\n</div>"
     },
     "metadata": {},
     "execution_count": 122
    }
   ],
   "source": [
    "principalDf"
   ]
  },
  {
   "cell_type": "code",
   "execution_count": 23,
   "metadata": {},
   "outputs": [],
   "source": [
    "#Add PCA Features into Male Dataset\n",
    "principalDf.index=df_male_model.index\n",
    "df_male_add_pca=pd.concat([df_male_model,principalDf],axis=1)"
   ]
  },
  {
   "cell_type": "code",
   "execution_count": 123,
   "metadata": {},
   "outputs": [
    {
     "output_type": "execute_result",
     "data": {
      "text/plain": [
       "      gender   age  imprace  imprelig  goal  date  go_out  sports  tvsports  \\\n",
       "iid                                                                           \n",
       "11.0     1.0  27.0      7.0       3.0   1.0   5.0     4.0     8.0       7.0   \n",
       "12.0     1.0  22.0      1.0       1.0   1.0   1.0     1.0     9.0       7.0   \n",
       "13.0     1.0  22.0      3.0       5.0   2.0   7.0     1.0     7.0       8.0   \n",
       "14.0     1.0  23.0      1.0       1.0   2.0   4.0     1.0    10.0       6.0   \n",
       "15.0     1.0  24.0      3.0       1.0   1.0   4.0     1.0     9.0       7.0   \n",
       "\n",
       "      exercise  ...  shopping  yoga  exphappy  attr3_1  sinc3_1  fun3_1  \\\n",
       "iid             ...                                                       \n",
       "11.0       2.0  ...       5.0   1.0       7.0      8.0      9.0     7.0   \n",
       "12.0       9.0  ...       5.0   5.0       7.0      9.0      9.0     9.0   \n",
       "13.0       2.0  ...       8.0   1.0       3.0      4.0      7.0     8.0   \n",
       "14.0       8.0  ...       6.0   1.0       8.0      9.0      9.0     9.0   \n",
       "15.0       9.0  ...       2.0   1.0       5.0      7.0      7.0     7.0   \n",
       "\n",
       "      intel3_1  amb3_1     pca_1     pca_2  \n",
       "iid                                         \n",
       "11.0       8.0     5.0  0.518133  0.351959  \n",
       "12.0      10.0     9.0  0.045061 -1.641835  \n",
       "13.0       8.0     3.0 -0.897906 -1.163761  \n",
       "14.0       9.0     9.0  0.896231 -3.246724  \n",
       "15.0       9.0     9.0  0.608790 -1.726577  \n",
       "\n",
       "[5 rows x 32 columns]"
      ],
      "text/html": "<div>\n<style scoped>\n    .dataframe tbody tr th:only-of-type {\n        vertical-align: middle;\n    }\n\n    .dataframe tbody tr th {\n        vertical-align: top;\n    }\n\n    .dataframe thead th {\n        text-align: right;\n    }\n</style>\n<table border=\"1\" class=\"dataframe\">\n  <thead>\n    <tr style=\"text-align: right;\">\n      <th></th>\n      <th>gender</th>\n      <th>age</th>\n      <th>imprace</th>\n      <th>imprelig</th>\n      <th>goal</th>\n      <th>date</th>\n      <th>go_out</th>\n      <th>sports</th>\n      <th>tvsports</th>\n      <th>exercise</th>\n      <th>...</th>\n      <th>shopping</th>\n      <th>yoga</th>\n      <th>exphappy</th>\n      <th>attr3_1</th>\n      <th>sinc3_1</th>\n      <th>fun3_1</th>\n      <th>intel3_1</th>\n      <th>amb3_1</th>\n      <th>pca_1</th>\n      <th>pca_2</th>\n    </tr>\n    <tr>\n      <th>iid</th>\n      <th></th>\n      <th></th>\n      <th></th>\n      <th></th>\n      <th></th>\n      <th></th>\n      <th></th>\n      <th></th>\n      <th></th>\n      <th></th>\n      <th></th>\n      <th></th>\n      <th></th>\n      <th></th>\n      <th></th>\n      <th></th>\n      <th></th>\n      <th></th>\n      <th></th>\n      <th></th>\n      <th></th>\n    </tr>\n  </thead>\n  <tbody>\n    <tr>\n      <th>11.0</th>\n      <td>1.0</td>\n      <td>27.0</td>\n      <td>7.0</td>\n      <td>3.0</td>\n      <td>1.0</td>\n      <td>5.0</td>\n      <td>4.0</td>\n      <td>8.0</td>\n      <td>7.0</td>\n      <td>2.0</td>\n      <td>...</td>\n      <td>5.0</td>\n      <td>1.0</td>\n      <td>7.0</td>\n      <td>8.0</td>\n      <td>9.0</td>\n      <td>7.0</td>\n      <td>8.0</td>\n      <td>5.0</td>\n      <td>0.518133</td>\n      <td>0.351959</td>\n    </tr>\n    <tr>\n      <th>12.0</th>\n      <td>1.0</td>\n      <td>22.0</td>\n      <td>1.0</td>\n      <td>1.0</td>\n      <td>1.0</td>\n      <td>1.0</td>\n      <td>1.0</td>\n      <td>9.0</td>\n      <td>7.0</td>\n      <td>9.0</td>\n      <td>...</td>\n      <td>5.0</td>\n      <td>5.0</td>\n      <td>7.0</td>\n      <td>9.0</td>\n      <td>9.0</td>\n      <td>9.0</td>\n      <td>10.0</td>\n      <td>9.0</td>\n      <td>0.045061</td>\n      <td>-1.641835</td>\n    </tr>\n    <tr>\n      <th>13.0</th>\n      <td>1.0</td>\n      <td>22.0</td>\n      <td>3.0</td>\n      <td>5.0</td>\n      <td>2.0</td>\n      <td>7.0</td>\n      <td>1.0</td>\n      <td>7.0</td>\n      <td>8.0</td>\n      <td>2.0</td>\n      <td>...</td>\n      <td>8.0</td>\n      <td>1.0</td>\n      <td>3.0</td>\n      <td>4.0</td>\n      <td>7.0</td>\n      <td>8.0</td>\n      <td>8.0</td>\n      <td>3.0</td>\n      <td>-0.897906</td>\n      <td>-1.163761</td>\n    </tr>\n    <tr>\n      <th>14.0</th>\n      <td>1.0</td>\n      <td>23.0</td>\n      <td>1.0</td>\n      <td>1.0</td>\n      <td>2.0</td>\n      <td>4.0</td>\n      <td>1.0</td>\n      <td>10.0</td>\n      <td>6.0</td>\n      <td>8.0</td>\n      <td>...</td>\n      <td>6.0</td>\n      <td>1.0</td>\n      <td>8.0</td>\n      <td>9.0</td>\n      <td>9.0</td>\n      <td>9.0</td>\n      <td>9.0</td>\n      <td>9.0</td>\n      <td>0.896231</td>\n      <td>-3.246724</td>\n    </tr>\n    <tr>\n      <th>15.0</th>\n      <td>1.0</td>\n      <td>24.0</td>\n      <td>3.0</td>\n      <td>1.0</td>\n      <td>1.0</td>\n      <td>4.0</td>\n      <td>1.0</td>\n      <td>9.0</td>\n      <td>7.0</td>\n      <td>9.0</td>\n      <td>...</td>\n      <td>2.0</td>\n      <td>1.0</td>\n      <td>5.0</td>\n      <td>7.0</td>\n      <td>7.0</td>\n      <td>7.0</td>\n      <td>9.0</td>\n      <td>9.0</td>\n      <td>0.608790</td>\n      <td>-1.726577</td>\n    </tr>\n  </tbody>\n</table>\n<p>5 rows × 32 columns</p>\n</div>"
     },
     "metadata": {},
     "execution_count": 123
    }
   ],
   "source": [
    "df_male_add_pca.head()"
   ]
  },
  {
   "cell_type": "code",
   "execution_count": 25,
   "metadata": {},
   "outputs": [],
   "source": [
    "df_male_add_pca.to_csv(\"df_male_add_pca.csv\")"
   ]
  },
  {
   "cell_type": "code",
   "execution_count": 26,
   "metadata": {},
   "outputs": [],
   "source": [
    "#Standard Scaling (2) of Female Set\n",
    "df_scale_f=df_female_add_pca[['attr3_1','sinc3_1', 'fun3_1', 'intel3_1', 'amb3_1','dining','museums','art', 'pca_1', 'pca_2']]\n",
    "\n",
    "from sklearn.preprocessing import StandardScaler\n",
    "scaler = StandardScaler()\n",
    "rescaled2 = scaler.fit_transform(df_scale_f)\n",
    "\n",
    "df_scaled_f=pd.DataFrame(rescaled2)\n",
    "df_scaled_f.columns=['attr3_1','sinc3_1', 'fun3_1', 'intel3_1', 'amb3_1','dining','museums','art', 'pca_1', 'pca_2']\n",
    "df_scaled_f.index=df_female_model.index"
   ]
  },
  {
   "cell_type": "code",
   "execution_count": 112,
   "metadata": {},
   "outputs": [
    {
     "output_type": "execute_result",
     "data": {
      "text/plain": [
       "        attr3_1   sinc3_1    fun3_1  intel3_1    amb3_1    dining   museums  \\\n",
       "iid                                                                           \n",
       "1.0   -0.943475 -0.347773  0.071613 -0.281848 -0.389435  0.537215 -3.416412   \n",
       "2.0   -0.184162 -2.566895  1.493266 -0.281848 -2.859699  1.168266  0.291429   \n",
       "3.0    0.575152  0.391935  0.071613  0.674295  0.228131 -0.093837 -1.297646   \n",
       "4.0   -0.184162 -0.347773  0.782440 -1.237991  0.228131 -0.724888 -0.767954   \n",
       "5.0   -0.943475 -4.046310 -1.350040  1.630437  0.228131 -0.724888 -0.767954   \n",
       "...         ...       ...       ...       ...       ...       ...       ...   \n",
       "526.0 -3.221415 -1.827188  0.782440 -1.237991  1.463263  1.168266  1.350812   \n",
       "527.0  2.093778  1.131642  1.493266  1.630437  1.463263 -0.093837 -0.238263   \n",
       "528.0  1.334465 -1.827188  0.071613 -0.281848  0.228131 -3.880144 -2.886720   \n",
       "529.0 -0.943475  1.131642  0.782440 -1.237991 -1.624567  1.168266  0.291429   \n",
       "530.0 -3.221415  0.391935  0.782440  0.674295 -0.389435 -1.355939 -2.357029   \n",
       "\n",
       "            art     pca_1     pca_2  \n",
       "iid                                  \n",
       "1.0   -3.077158  0.131083 -0.770152  \n",
       "2.0   -0.604770  0.674289  0.572543  \n",
       "3.0   -1.099248 -0.013587 -0.913747  \n",
       "4.0   -0.110292  0.555938  1.011647  \n",
       "5.0    0.384185  0.179920 -1.980628  \n",
       "...         ...       ...       ...  \n",
       "526.0 -0.110292 -0.002253  1.286002  \n",
       "527.0 -0.110292 -0.031152  0.288713  \n",
       "528.0 -2.582681  2.101665 -2.122712  \n",
       "529.0  0.384185 -0.136425 -0.470536  \n",
       "530.0  0.384185 -0.937654 -0.435501  \n",
       "\n",
       "[274 rows x 10 columns]"
      ],
      "text/html": "<div>\n<style scoped>\n    .dataframe tbody tr th:only-of-type {\n        vertical-align: middle;\n    }\n\n    .dataframe tbody tr th {\n        vertical-align: top;\n    }\n\n    .dataframe thead th {\n        text-align: right;\n    }\n</style>\n<table border=\"1\" class=\"dataframe\">\n  <thead>\n    <tr style=\"text-align: right;\">\n      <th></th>\n      <th>attr3_1</th>\n      <th>sinc3_1</th>\n      <th>fun3_1</th>\n      <th>intel3_1</th>\n      <th>amb3_1</th>\n      <th>dining</th>\n      <th>museums</th>\n      <th>art</th>\n      <th>pca_1</th>\n      <th>pca_2</th>\n    </tr>\n    <tr>\n      <th>iid</th>\n      <th></th>\n      <th></th>\n      <th></th>\n      <th></th>\n      <th></th>\n      <th></th>\n      <th></th>\n      <th></th>\n      <th></th>\n      <th></th>\n    </tr>\n  </thead>\n  <tbody>\n    <tr>\n      <th>1.0</th>\n      <td>-0.943475</td>\n      <td>-0.347773</td>\n      <td>0.071613</td>\n      <td>-0.281848</td>\n      <td>-0.389435</td>\n      <td>0.537215</td>\n      <td>-3.416412</td>\n      <td>-3.077158</td>\n      <td>0.131083</td>\n      <td>-0.770152</td>\n    </tr>\n    <tr>\n      <th>2.0</th>\n      <td>-0.184162</td>\n      <td>-2.566895</td>\n      <td>1.493266</td>\n      <td>-0.281848</td>\n      <td>-2.859699</td>\n      <td>1.168266</td>\n      <td>0.291429</td>\n      <td>-0.604770</td>\n      <td>0.674289</td>\n      <td>0.572543</td>\n    </tr>\n    <tr>\n      <th>3.0</th>\n      <td>0.575152</td>\n      <td>0.391935</td>\n      <td>0.071613</td>\n      <td>0.674295</td>\n      <td>0.228131</td>\n      <td>-0.093837</td>\n      <td>-1.297646</td>\n      <td>-1.099248</td>\n      <td>-0.013587</td>\n      <td>-0.913747</td>\n    </tr>\n    <tr>\n      <th>4.0</th>\n      <td>-0.184162</td>\n      <td>-0.347773</td>\n      <td>0.782440</td>\n      <td>-1.237991</td>\n      <td>0.228131</td>\n      <td>-0.724888</td>\n      <td>-0.767954</td>\n      <td>-0.110292</td>\n      <td>0.555938</td>\n      <td>1.011647</td>\n    </tr>\n    <tr>\n      <th>5.0</th>\n      <td>-0.943475</td>\n      <td>-4.046310</td>\n      <td>-1.350040</td>\n      <td>1.630437</td>\n      <td>0.228131</td>\n      <td>-0.724888</td>\n      <td>-0.767954</td>\n      <td>0.384185</td>\n      <td>0.179920</td>\n      <td>-1.980628</td>\n    </tr>\n    <tr>\n      <th>...</th>\n      <td>...</td>\n      <td>...</td>\n      <td>...</td>\n      <td>...</td>\n      <td>...</td>\n      <td>...</td>\n      <td>...</td>\n      <td>...</td>\n      <td>...</td>\n      <td>...</td>\n    </tr>\n    <tr>\n      <th>526.0</th>\n      <td>-3.221415</td>\n      <td>-1.827188</td>\n      <td>0.782440</td>\n      <td>-1.237991</td>\n      <td>1.463263</td>\n      <td>1.168266</td>\n      <td>1.350812</td>\n      <td>-0.110292</td>\n      <td>-0.002253</td>\n      <td>1.286002</td>\n    </tr>\n    <tr>\n      <th>527.0</th>\n      <td>2.093778</td>\n      <td>1.131642</td>\n      <td>1.493266</td>\n      <td>1.630437</td>\n      <td>1.463263</td>\n      <td>-0.093837</td>\n      <td>-0.238263</td>\n      <td>-0.110292</td>\n      <td>-0.031152</td>\n      <td>0.288713</td>\n    </tr>\n    <tr>\n      <th>528.0</th>\n      <td>1.334465</td>\n      <td>-1.827188</td>\n      <td>0.071613</td>\n      <td>-0.281848</td>\n      <td>0.228131</td>\n      <td>-3.880144</td>\n      <td>-2.886720</td>\n      <td>-2.582681</td>\n      <td>2.101665</td>\n      <td>-2.122712</td>\n    </tr>\n    <tr>\n      <th>529.0</th>\n      <td>-0.943475</td>\n      <td>1.131642</td>\n      <td>0.782440</td>\n      <td>-1.237991</td>\n      <td>-1.624567</td>\n      <td>1.168266</td>\n      <td>0.291429</td>\n      <td>0.384185</td>\n      <td>-0.136425</td>\n      <td>-0.470536</td>\n    </tr>\n    <tr>\n      <th>530.0</th>\n      <td>-3.221415</td>\n      <td>0.391935</td>\n      <td>0.782440</td>\n      <td>0.674295</td>\n      <td>-0.389435</td>\n      <td>-1.355939</td>\n      <td>-2.357029</td>\n      <td>0.384185</td>\n      <td>-0.937654</td>\n      <td>-0.435501</td>\n    </tr>\n  </tbody>\n</table>\n<p>274 rows × 10 columns</p>\n</div>"
     },
     "metadata": {},
     "execution_count": 112
    }
   ],
   "source": [
    "df_scaled_f"
   ]
  },
  {
   "cell_type": "code",
   "execution_count": 33,
   "metadata": {},
   "outputs": [],
   "source": [
    "#Standard Scaling (2) of Male Set\n",
    "df_scale_m=df_male_add_pca[['attr3_1','sinc3_1','fun3_1','intel3_1','amb3_1','date','go_out','dining', 'pca_1', 'pca_2']]\n",
    "\n",
    "from sklearn.preprocessing import StandardScaler\n",
    "scaler = StandardScaler()\n",
    "rescaled2 = scaler.fit_transform(df_scale_m)\n",
    "\n",
    "df_scaled_m=pd.DataFrame(rescaled2)\n",
    "df_scaled_m.columns=['attr3_1','sinc3_1','fun3_1','intel3_1','amb3_1','date','go_out','dining', 'pca_1', 'pca_2']\n",
    "df_scaled_m.index=df_male_model.index"
   ]
  },
  {
   "cell_type": "code",
   "execution_count": 113,
   "metadata": {},
   "outputs": [
    {
     "output_type": "execute_result",
     "data": {
      "text/plain": [
       "        attr3_1   sinc3_1    fun3_1  intel3_1    amb3_1      date    go_out  \\\n",
       "iid                                                                           \n",
       "11.0   0.743020  0.628910 -0.311964 -0.429307 -1.325034  0.112379  1.612112   \n",
       "12.0   1.447475  0.628910  0.917938  1.380387  0.773575 -2.624669 -1.011147   \n",
       "13.0  -2.074800 -0.777794  0.302987 -0.429307 -2.374339  1.480902 -1.011147   \n",
       "14.0   1.447475  0.628910  0.917938  0.475540  0.773575 -0.571883 -1.011147   \n",
       "15.0   0.038565 -0.777794 -0.311964  0.475540  0.773575 -0.571883 -1.011147   \n",
       "...         ...       ...       ...       ...       ...       ...       ...   \n",
       "548.0  2.151930  1.332262  1.532888  1.380387  1.298227  0.796641 -1.011147   \n",
       "549.0  0.038565  1.332262  0.302987  0.475540  0.773575  1.480902 -1.011147   \n",
       "550.0  0.038565 -0.777794 -0.311964 -1.334154 -0.275730 -0.571883 -1.011147   \n",
       "551.0  0.038565 -0.074442 -2.771767 -0.429307 -1.325034  0.796641  0.737692   \n",
       "552.0  0.743020 -0.777794 -0.926915 -1.334154 -0.275730 -1.940407 -1.011147   \n",
       "\n",
       "         dining     pca_1     pca_2  \n",
       "iid                                  \n",
       "11.0  -0.760039  0.271734  0.236080  \n",
       "12.0   0.317336  0.023632 -1.101275  \n",
       "13.0   0.856023 -0.470906 -0.780603  \n",
       "14.0   0.317336  0.470027 -2.177769  \n",
       "15.0  -0.221351  0.319279 -1.158117  \n",
       "...         ...       ...       ...  \n",
       "548.0  1.394710  1.221204 -0.439802  \n",
       "549.0  0.856023 -1.053635 -0.814243  \n",
       "550.0  0.856023  0.088068  0.929355  \n",
       "551.0 -0.760039  0.563770  1.095471  \n",
       "552.0  1.394710 -1.787560  0.242060  \n",
       "\n",
       "[277 rows x 10 columns]"
      ],
      "text/html": "<div>\n<style scoped>\n    .dataframe tbody tr th:only-of-type {\n        vertical-align: middle;\n    }\n\n    .dataframe tbody tr th {\n        vertical-align: top;\n    }\n\n    .dataframe thead th {\n        text-align: right;\n    }\n</style>\n<table border=\"1\" class=\"dataframe\">\n  <thead>\n    <tr style=\"text-align: right;\">\n      <th></th>\n      <th>attr3_1</th>\n      <th>sinc3_1</th>\n      <th>fun3_1</th>\n      <th>intel3_1</th>\n      <th>amb3_1</th>\n      <th>date</th>\n      <th>go_out</th>\n      <th>dining</th>\n      <th>pca_1</th>\n      <th>pca_2</th>\n    </tr>\n    <tr>\n      <th>iid</th>\n      <th></th>\n      <th></th>\n      <th></th>\n      <th></th>\n      <th></th>\n      <th></th>\n      <th></th>\n      <th></th>\n      <th></th>\n      <th></th>\n    </tr>\n  </thead>\n  <tbody>\n    <tr>\n      <th>11.0</th>\n      <td>0.743020</td>\n      <td>0.628910</td>\n      <td>-0.311964</td>\n      <td>-0.429307</td>\n      <td>-1.325034</td>\n      <td>0.112379</td>\n      <td>1.612112</td>\n      <td>-0.760039</td>\n      <td>0.271734</td>\n      <td>0.236080</td>\n    </tr>\n    <tr>\n      <th>12.0</th>\n      <td>1.447475</td>\n      <td>0.628910</td>\n      <td>0.917938</td>\n      <td>1.380387</td>\n      <td>0.773575</td>\n      <td>-2.624669</td>\n      <td>-1.011147</td>\n      <td>0.317336</td>\n      <td>0.023632</td>\n      <td>-1.101275</td>\n    </tr>\n    <tr>\n      <th>13.0</th>\n      <td>-2.074800</td>\n      <td>-0.777794</td>\n      <td>0.302987</td>\n      <td>-0.429307</td>\n      <td>-2.374339</td>\n      <td>1.480902</td>\n      <td>-1.011147</td>\n      <td>0.856023</td>\n      <td>-0.470906</td>\n      <td>-0.780603</td>\n    </tr>\n    <tr>\n      <th>14.0</th>\n      <td>1.447475</td>\n      <td>0.628910</td>\n      <td>0.917938</td>\n      <td>0.475540</td>\n      <td>0.773575</td>\n      <td>-0.571883</td>\n      <td>-1.011147</td>\n      <td>0.317336</td>\n      <td>0.470027</td>\n      <td>-2.177769</td>\n    </tr>\n    <tr>\n      <th>15.0</th>\n      <td>0.038565</td>\n      <td>-0.777794</td>\n      <td>-0.311964</td>\n      <td>0.475540</td>\n      <td>0.773575</td>\n      <td>-0.571883</td>\n      <td>-1.011147</td>\n      <td>-0.221351</td>\n      <td>0.319279</td>\n      <td>-1.158117</td>\n    </tr>\n    <tr>\n      <th>...</th>\n      <td>...</td>\n      <td>...</td>\n      <td>...</td>\n      <td>...</td>\n      <td>...</td>\n      <td>...</td>\n      <td>...</td>\n      <td>...</td>\n      <td>...</td>\n      <td>...</td>\n    </tr>\n    <tr>\n      <th>548.0</th>\n      <td>2.151930</td>\n      <td>1.332262</td>\n      <td>1.532888</td>\n      <td>1.380387</td>\n      <td>1.298227</td>\n      <td>0.796641</td>\n      <td>-1.011147</td>\n      <td>1.394710</td>\n      <td>1.221204</td>\n      <td>-0.439802</td>\n    </tr>\n    <tr>\n      <th>549.0</th>\n      <td>0.038565</td>\n      <td>1.332262</td>\n      <td>0.302987</td>\n      <td>0.475540</td>\n      <td>0.773575</td>\n      <td>1.480902</td>\n      <td>-1.011147</td>\n      <td>0.856023</td>\n      <td>-1.053635</td>\n      <td>-0.814243</td>\n    </tr>\n    <tr>\n      <th>550.0</th>\n      <td>0.038565</td>\n      <td>-0.777794</td>\n      <td>-0.311964</td>\n      <td>-1.334154</td>\n      <td>-0.275730</td>\n      <td>-0.571883</td>\n      <td>-1.011147</td>\n      <td>0.856023</td>\n      <td>0.088068</td>\n      <td>0.929355</td>\n    </tr>\n    <tr>\n      <th>551.0</th>\n      <td>0.038565</td>\n      <td>-0.074442</td>\n      <td>-2.771767</td>\n      <td>-0.429307</td>\n      <td>-1.325034</td>\n      <td>0.796641</td>\n      <td>0.737692</td>\n      <td>-0.760039</td>\n      <td>0.563770</td>\n      <td>1.095471</td>\n    </tr>\n    <tr>\n      <th>552.0</th>\n      <td>0.743020</td>\n      <td>-0.777794</td>\n      <td>-0.926915</td>\n      <td>-1.334154</td>\n      <td>-0.275730</td>\n      <td>-1.940407</td>\n      <td>-1.011147</td>\n      <td>1.394710</td>\n      <td>-1.787560</td>\n      <td>0.242060</td>\n    </tr>\n  </tbody>\n</table>\n<p>277 rows × 10 columns</p>\n</div>"
     },
     "metadata": {},
     "execution_count": 113
    }
   ],
   "source": [
    "df_scaled_m"
   ]
  },
  {
   "cell_type": "code",
   "execution_count": 49,
   "metadata": {},
   "outputs": [],
   "source": [
    "#Clustering with KMeans - Female\n",
    "df_female_model2 = df_scaled_f\n",
    "\n",
    "interest_f2 = []\n",
    "score_f2 = []\n",
    "\n",
    "for k in range(2,11):\n",
    "    km=KMeans(n_clusters=k)\n",
    "    km.fit(df_female_model2)\n",
    "    label = ','.join(df_female_model2.columns)+' k='+str(k)\n",
    "    interest_f2.append(label)\n",
    "    score_f2.append(silhouette_score(df_female_model2, km.predict(df_female_model2)))"
   ]
  },
  {
   "cell_type": "code",
   "execution_count": 50,
   "metadata": {},
   "outputs": [
    {
     "output_type": "stream",
     "name": "stdout",
     "text": [
      "[Female]\nMax. Silhouette Score:     0.1657858928162739\nBest-Performing Combo with # of Clusters:    attr3_1,sinc3_1,fun3_1,intel3_1,amb3_1,dining,museums,art,pca_1,pca_2 k=2\n"
     ]
    }
   ],
   "source": [
    "print(\"[Female]\")\n",
    "print(f'Max. Silhouette Score:     {max(score_f2)}')\n",
    "print(f'Best-Performing Combo with # of Clusters:    {interest_f2[score_f2.index(max(score_f2))]}')"
   ]
  },
  {
   "cell_type": "code",
   "execution_count": 51,
   "metadata": {},
   "outputs": [],
   "source": [
    "#Add Class Information in Female Dataset\n",
    "km = KMeans(n_clusters = 2)\n",
    "km.fit(df_female_model2)\n",
    "df_female_class = pd.DataFrame(km.labels_)\n",
    "df_female_class.columns = ['class']\n",
    "df_female_class.index = df_female.index\n",
    "df_female_classed = pd.concat([df_female,df_female_class], axis=1)"
   ]
  },
  {
   "cell_type": "code",
   "execution_count": 59,
   "metadata": {},
   "outputs": [],
   "source": [
    "df_female_classed[\"class\"]=df_female_classed[\"class\"].apply(lambda x:\"f0\" if x==0 else \"f1\")"
   ]
  },
  {
   "cell_type": "code",
   "execution_count": 60,
   "metadata": {},
   "outputs": [
    {
     "output_type": "execute_result",
     "data": {
      "text/plain": [
       "     iid  gender   age  imprace  imprelig  goal  date  go_out  sports  \\\n",
       "0      1       0  21.0      2.0       4.0   2.0   7.0     1.0     9.0   \n",
       "1      2       0  24.0      2.0       5.0   1.0   5.0     1.0     3.0   \n",
       "2      3       0  25.0      8.0       4.0   6.0   3.0     1.0     3.0   \n",
       "3      4       0  23.0      1.0       1.0   1.0   5.0     1.0     1.0   \n",
       "4      5       0  21.0      8.0       1.0   2.0   4.0     1.0     7.0   \n",
       "..   ...     ...   ...      ...       ...   ...   ...     ...     ...   \n",
       "269  526       0  26.0      5.0       2.0   1.0   5.0     3.0     2.0   \n",
       "270  527       0  24.0      5.0       5.0   1.0   4.0     3.0     5.0   \n",
       "271  528       0  29.0      8.0       7.0   2.0   6.0     1.0     5.0   \n",
       "272  529       0  22.0      4.0       1.0   2.0   4.0     1.0     7.0   \n",
       "273  530       0  22.0      1.0       1.0   2.0   7.0     3.0     7.0   \n",
       "\n",
       "     tvsports  ...  music  shopping  yoga  exphappy  attr3_1  sinc3_1  fun3_1  \\\n",
       "0         2.0  ...    9.0       8.0   1.0       3.0      6.0      8.0     8.0   \n",
       "1         2.0  ...    8.0       3.0   1.0       4.0      7.0      5.0    10.0   \n",
       "2         8.0  ...    5.0       8.0   7.0       4.0      8.0      9.0     8.0   \n",
       "3         1.0  ...    7.0       1.0   8.0       1.0      7.0      8.0     9.0   \n",
       "4         4.0  ...    7.0       8.0   3.0       7.0      6.0      3.0     6.0   \n",
       "..        ...  ...    ...       ...   ...       ...      ...      ...     ...   \n",
       "269       1.0  ...    8.0       4.0  10.0       6.0      3.0      6.0     9.0   \n",
       "270       5.0  ...    8.0       7.0   6.0       1.0     10.0     10.0    10.0   \n",
       "271       8.0  ...    3.0       2.0   2.0       4.0      9.0      6.0     8.0   \n",
       "272       4.0  ...    8.0       4.0   4.0       5.0      6.0     10.0     9.0   \n",
       "273      10.0  ...   10.0       6.0   3.0       8.0      3.0      9.0     9.0   \n",
       "\n",
       "     intel3_1  amb3_1  class  \n",
       "0         8.0     7.0     f0  \n",
       "1         8.0     3.0     f0  \n",
       "2         9.0     8.0     f0  \n",
       "3         7.0     8.0     f0  \n",
       "4        10.0     8.0     f0  \n",
       "..        ...     ...    ...  \n",
       "269       7.0    10.0     f1  \n",
       "270      10.0    10.0     f1  \n",
       "271       8.0     8.0     f0  \n",
       "272       7.0     5.0     f1  \n",
       "273       9.0     7.0     f0  \n",
       "\n",
       "[274 rows x 32 columns]"
      ],
      "text/html": "<div>\n<style scoped>\n    .dataframe tbody tr th:only-of-type {\n        vertical-align: middle;\n    }\n\n    .dataframe tbody tr th {\n        vertical-align: top;\n    }\n\n    .dataframe thead th {\n        text-align: right;\n    }\n</style>\n<table border=\"1\" class=\"dataframe\">\n  <thead>\n    <tr style=\"text-align: right;\">\n      <th></th>\n      <th>iid</th>\n      <th>gender</th>\n      <th>age</th>\n      <th>imprace</th>\n      <th>imprelig</th>\n      <th>goal</th>\n      <th>date</th>\n      <th>go_out</th>\n      <th>sports</th>\n      <th>tvsports</th>\n      <th>...</th>\n      <th>music</th>\n      <th>shopping</th>\n      <th>yoga</th>\n      <th>exphappy</th>\n      <th>attr3_1</th>\n      <th>sinc3_1</th>\n      <th>fun3_1</th>\n      <th>intel3_1</th>\n      <th>amb3_1</th>\n      <th>class</th>\n    </tr>\n  </thead>\n  <tbody>\n    <tr>\n      <th>0</th>\n      <td>1</td>\n      <td>0</td>\n      <td>21.0</td>\n      <td>2.0</td>\n      <td>4.0</td>\n      <td>2.0</td>\n      <td>7.0</td>\n      <td>1.0</td>\n      <td>9.0</td>\n      <td>2.0</td>\n      <td>...</td>\n      <td>9.0</td>\n      <td>8.0</td>\n      <td>1.0</td>\n      <td>3.0</td>\n      <td>6.0</td>\n      <td>8.0</td>\n      <td>8.0</td>\n      <td>8.0</td>\n      <td>7.0</td>\n      <td>f0</td>\n    </tr>\n    <tr>\n      <th>1</th>\n      <td>2</td>\n      <td>0</td>\n      <td>24.0</td>\n      <td>2.0</td>\n      <td>5.0</td>\n      <td>1.0</td>\n      <td>5.0</td>\n      <td>1.0</td>\n      <td>3.0</td>\n      <td>2.0</td>\n      <td>...</td>\n      <td>8.0</td>\n      <td>3.0</td>\n      <td>1.0</td>\n      <td>4.0</td>\n      <td>7.0</td>\n      <td>5.0</td>\n      <td>10.0</td>\n      <td>8.0</td>\n      <td>3.0</td>\n      <td>f0</td>\n    </tr>\n    <tr>\n      <th>2</th>\n      <td>3</td>\n      <td>0</td>\n      <td>25.0</td>\n      <td>8.0</td>\n      <td>4.0</td>\n      <td>6.0</td>\n      <td>3.0</td>\n      <td>1.0</td>\n      <td>3.0</td>\n      <td>8.0</td>\n      <td>...</td>\n      <td>5.0</td>\n      <td>8.0</td>\n      <td>7.0</td>\n      <td>4.0</td>\n      <td>8.0</td>\n      <td>9.0</td>\n      <td>8.0</td>\n      <td>9.0</td>\n      <td>8.0</td>\n      <td>f0</td>\n    </tr>\n    <tr>\n      <th>3</th>\n      <td>4</td>\n      <td>0</td>\n      <td>23.0</td>\n      <td>1.0</td>\n      <td>1.0</td>\n      <td>1.0</td>\n      <td>5.0</td>\n      <td>1.0</td>\n      <td>1.0</td>\n      <td>1.0</td>\n      <td>...</td>\n      <td>7.0</td>\n      <td>1.0</td>\n      <td>8.0</td>\n      <td>1.0</td>\n      <td>7.0</td>\n      <td>8.0</td>\n      <td>9.0</td>\n      <td>7.0</td>\n      <td>8.0</td>\n      <td>f0</td>\n    </tr>\n    <tr>\n      <th>4</th>\n      <td>5</td>\n      <td>0</td>\n      <td>21.0</td>\n      <td>8.0</td>\n      <td>1.0</td>\n      <td>2.0</td>\n      <td>4.0</td>\n      <td>1.0</td>\n      <td>7.0</td>\n      <td>4.0</td>\n      <td>...</td>\n      <td>7.0</td>\n      <td>8.0</td>\n      <td>3.0</td>\n      <td>7.0</td>\n      <td>6.0</td>\n      <td>3.0</td>\n      <td>6.0</td>\n      <td>10.0</td>\n      <td>8.0</td>\n      <td>f0</td>\n    </tr>\n    <tr>\n      <th>...</th>\n      <td>...</td>\n      <td>...</td>\n      <td>...</td>\n      <td>...</td>\n      <td>...</td>\n      <td>...</td>\n      <td>...</td>\n      <td>...</td>\n      <td>...</td>\n      <td>...</td>\n      <td>...</td>\n      <td>...</td>\n      <td>...</td>\n      <td>...</td>\n      <td>...</td>\n      <td>...</td>\n      <td>...</td>\n      <td>...</td>\n      <td>...</td>\n      <td>...</td>\n      <td>...</td>\n    </tr>\n    <tr>\n      <th>269</th>\n      <td>526</td>\n      <td>0</td>\n      <td>26.0</td>\n      <td>5.0</td>\n      <td>2.0</td>\n      <td>1.0</td>\n      <td>5.0</td>\n      <td>3.0</td>\n      <td>2.0</td>\n      <td>1.0</td>\n      <td>...</td>\n      <td>8.0</td>\n      <td>4.0</td>\n      <td>10.0</td>\n      <td>6.0</td>\n      <td>3.0</td>\n      <td>6.0</td>\n      <td>9.0</td>\n      <td>7.0</td>\n      <td>10.0</td>\n      <td>f1</td>\n    </tr>\n    <tr>\n      <th>270</th>\n      <td>527</td>\n      <td>0</td>\n      <td>24.0</td>\n      <td>5.0</td>\n      <td>5.0</td>\n      <td>1.0</td>\n      <td>4.0</td>\n      <td>3.0</td>\n      <td>5.0</td>\n      <td>5.0</td>\n      <td>...</td>\n      <td>8.0</td>\n      <td>7.0</td>\n      <td>6.0</td>\n      <td>1.0</td>\n      <td>10.0</td>\n      <td>10.0</td>\n      <td>10.0</td>\n      <td>10.0</td>\n      <td>10.0</td>\n      <td>f1</td>\n    </tr>\n    <tr>\n      <th>271</th>\n      <td>528</td>\n      <td>0</td>\n      <td>29.0</td>\n      <td>8.0</td>\n      <td>7.0</td>\n      <td>2.0</td>\n      <td>6.0</td>\n      <td>1.0</td>\n      <td>5.0</td>\n      <td>8.0</td>\n      <td>...</td>\n      <td>3.0</td>\n      <td>2.0</td>\n      <td>2.0</td>\n      <td>4.0</td>\n      <td>9.0</td>\n      <td>6.0</td>\n      <td>8.0</td>\n      <td>8.0</td>\n      <td>8.0</td>\n      <td>f0</td>\n    </tr>\n    <tr>\n      <th>272</th>\n      <td>529</td>\n      <td>0</td>\n      <td>22.0</td>\n      <td>4.0</td>\n      <td>1.0</td>\n      <td>2.0</td>\n      <td>4.0</td>\n      <td>1.0</td>\n      <td>7.0</td>\n      <td>4.0</td>\n      <td>...</td>\n      <td>8.0</td>\n      <td>4.0</td>\n      <td>4.0</td>\n      <td>5.0</td>\n      <td>6.0</td>\n      <td>10.0</td>\n      <td>9.0</td>\n      <td>7.0</td>\n      <td>5.0</td>\n      <td>f1</td>\n    </tr>\n    <tr>\n      <th>273</th>\n      <td>530</td>\n      <td>0</td>\n      <td>22.0</td>\n      <td>1.0</td>\n      <td>1.0</td>\n      <td>2.0</td>\n      <td>7.0</td>\n      <td>3.0</td>\n      <td>7.0</td>\n      <td>10.0</td>\n      <td>...</td>\n      <td>10.0</td>\n      <td>6.0</td>\n      <td>3.0</td>\n      <td>8.0</td>\n      <td>3.0</td>\n      <td>9.0</td>\n      <td>9.0</td>\n      <td>9.0</td>\n      <td>7.0</td>\n      <td>f0</td>\n    </tr>\n  </tbody>\n</table>\n<p>274 rows × 32 columns</p>\n</div>"
     },
     "metadata": {},
     "execution_count": 60
    }
   ],
   "source": [
    "df_female_classed"
   ]
  },
  {
   "cell_type": "code",
   "execution_count": 35,
   "metadata": {},
   "outputs": [],
   "source": [
    "#Clustering with KMeans - Male\n",
    "df_male_model2 = df_scaled_m\n",
    "\n",
    "interest_m2 = []\n",
    "score_m2 = []\n",
    "\n",
    "for k in range(2,11):\n",
    "    km=KMeans(n_clusters=k)\n",
    "    km.fit(df_male_model2)\n",
    "    label = ','.join(df_male_model2.columns)+' k='+str(k)\n",
    "    interest_m2.append(label)\n",
    "    score_m2.append(silhouette_score(df_male_model2, km.predict(df_male_model2)))"
   ]
  },
  {
   "cell_type": "code",
   "execution_count": 36,
   "metadata": {},
   "outputs": [
    {
     "output_type": "stream",
     "name": "stdout",
     "text": [
      "[Male]\nMax. Silhouette Score:     0.18132246954261005\nBest-Performing Combo with # of Clusters:    attr3_1,sinc3_1,fun3_1,intel3_1,amb3_1,date,go_out,dining,pca_1,pca_2 k=2\n"
     ]
    }
   ],
   "source": [
    "print(\"[Male]\")\n",
    "print(f'Max. Silhouette Score:     {max(score_m2)}')\n",
    "print(f'Best-Performing Combo with # of Clusters:    {interest_m2[score_m2.index(max(score_m2))]}')"
   ]
  },
  {
   "cell_type": "code",
   "execution_count": 42,
   "metadata": {},
   "outputs": [],
   "source": [
    "#Add Class Information in Male Dataset\n",
    "km = KMeans(n_clusters = 2)\n",
    "km.fit(df_male_model2)\n",
    "df_male_class = pd.DataFrame(km.labels_)\n",
    "df_male_class.columns = ['class']\n",
    "df_male_class.index = df_male.index\n",
    "df_male_classed = pd.concat([df_male,df_male_class], axis=1)"
   ]
  },
  {
   "cell_type": "code",
   "execution_count": 61,
   "metadata": {},
   "outputs": [],
   "source": [
    "df_male_classed[\"class\"]=df_male_classed[\"class\"].apply(lambda x:\"m0\" if x==0 else \"m1\")"
   ]
  },
  {
   "cell_type": "code",
   "execution_count": 65,
   "metadata": {},
   "outputs": [
    {
     "output_type": "execute_result",
     "data": {
      "text/plain": [
       "   iid  gender   age  imprace  imprelig  goal  date  go_out  sports  tvsports  \\\n",
       "0   11       1  27.0      7.0       3.0   1.0   5.0     4.0     8.0       7.0   \n",
       "1   12       1  22.0      1.0       1.0   1.0   1.0     1.0     9.0       7.0   \n",
       "2   13       1  22.0      3.0       5.0   2.0   7.0     1.0     7.0       8.0   \n",
       "3   14       1  23.0      1.0       1.0   2.0   4.0     1.0    10.0       6.0   \n",
       "4   15       1  24.0      3.0       1.0   1.0   4.0     1.0     9.0       7.0   \n",
       "\n",
       "   ...  music  shopping  yoga  exphappy  attr3_1  sinc3_1  fun3_1  intel3_1  \\\n",
       "0  ...    8.0       5.0   1.0       7.0      8.0      9.0     7.0       8.0   \n",
       "1  ...    9.0       5.0   5.0       7.0      9.0      9.0     9.0      10.0   \n",
       "2  ...    9.0       8.0   1.0       3.0      4.0      7.0     8.0       8.0   \n",
       "3  ...    8.0       6.0   1.0       8.0      9.0      9.0     9.0       9.0   \n",
       "4  ...    7.0       2.0   1.0       5.0      7.0      7.0     7.0       9.0   \n",
       "\n",
       "   amb3_1  class  \n",
       "0     5.0     m0  \n",
       "1     9.0     m1  \n",
       "2     3.0     m0  \n",
       "3     9.0     m1  \n",
       "4     9.0     m1  \n",
       "\n",
       "[5 rows x 32 columns]"
      ],
      "text/html": "<div>\n<style scoped>\n    .dataframe tbody tr th:only-of-type {\n        vertical-align: middle;\n    }\n\n    .dataframe tbody tr th {\n        vertical-align: top;\n    }\n\n    .dataframe thead th {\n        text-align: right;\n    }\n</style>\n<table border=\"1\" class=\"dataframe\">\n  <thead>\n    <tr style=\"text-align: right;\">\n      <th></th>\n      <th>iid</th>\n      <th>gender</th>\n      <th>age</th>\n      <th>imprace</th>\n      <th>imprelig</th>\n      <th>goal</th>\n      <th>date</th>\n      <th>go_out</th>\n      <th>sports</th>\n      <th>tvsports</th>\n      <th>...</th>\n      <th>music</th>\n      <th>shopping</th>\n      <th>yoga</th>\n      <th>exphappy</th>\n      <th>attr3_1</th>\n      <th>sinc3_1</th>\n      <th>fun3_1</th>\n      <th>intel3_1</th>\n      <th>amb3_1</th>\n      <th>class</th>\n    </tr>\n  </thead>\n  <tbody>\n    <tr>\n      <th>0</th>\n      <td>11</td>\n      <td>1</td>\n      <td>27.0</td>\n      <td>7.0</td>\n      <td>3.0</td>\n      <td>1.0</td>\n      <td>5.0</td>\n      <td>4.0</td>\n      <td>8.0</td>\n      <td>7.0</td>\n      <td>...</td>\n      <td>8.0</td>\n      <td>5.0</td>\n      <td>1.0</td>\n      <td>7.0</td>\n      <td>8.0</td>\n      <td>9.0</td>\n      <td>7.0</td>\n      <td>8.0</td>\n      <td>5.0</td>\n      <td>m0</td>\n    </tr>\n    <tr>\n      <th>1</th>\n      <td>12</td>\n      <td>1</td>\n      <td>22.0</td>\n      <td>1.0</td>\n      <td>1.0</td>\n      <td>1.0</td>\n      <td>1.0</td>\n      <td>1.0</td>\n      <td>9.0</td>\n      <td>7.0</td>\n      <td>...</td>\n      <td>9.0</td>\n      <td>5.0</td>\n      <td>5.0</td>\n      <td>7.0</td>\n      <td>9.0</td>\n      <td>9.0</td>\n      <td>9.0</td>\n      <td>10.0</td>\n      <td>9.0</td>\n      <td>m1</td>\n    </tr>\n    <tr>\n      <th>2</th>\n      <td>13</td>\n      <td>1</td>\n      <td>22.0</td>\n      <td>3.0</td>\n      <td>5.0</td>\n      <td>2.0</td>\n      <td>7.0</td>\n      <td>1.0</td>\n      <td>7.0</td>\n      <td>8.0</td>\n      <td>...</td>\n      <td>9.0</td>\n      <td>8.0</td>\n      <td>1.0</td>\n      <td>3.0</td>\n      <td>4.0</td>\n      <td>7.0</td>\n      <td>8.0</td>\n      <td>8.0</td>\n      <td>3.0</td>\n      <td>m0</td>\n    </tr>\n    <tr>\n      <th>3</th>\n      <td>14</td>\n      <td>1</td>\n      <td>23.0</td>\n      <td>1.0</td>\n      <td>1.0</td>\n      <td>2.0</td>\n      <td>4.0</td>\n      <td>1.0</td>\n      <td>10.0</td>\n      <td>6.0</td>\n      <td>...</td>\n      <td>8.0</td>\n      <td>6.0</td>\n      <td>1.0</td>\n      <td>8.0</td>\n      <td>9.0</td>\n      <td>9.0</td>\n      <td>9.0</td>\n      <td>9.0</td>\n      <td>9.0</td>\n      <td>m1</td>\n    </tr>\n    <tr>\n      <th>4</th>\n      <td>15</td>\n      <td>1</td>\n      <td>24.0</td>\n      <td>3.0</td>\n      <td>1.0</td>\n      <td>1.0</td>\n      <td>4.0</td>\n      <td>1.0</td>\n      <td>9.0</td>\n      <td>7.0</td>\n      <td>...</td>\n      <td>7.0</td>\n      <td>2.0</td>\n      <td>1.0</td>\n      <td>5.0</td>\n      <td>7.0</td>\n      <td>7.0</td>\n      <td>7.0</td>\n      <td>9.0</td>\n      <td>9.0</td>\n      <td>m1</td>\n    </tr>\n  </tbody>\n</table>\n<p>5 rows × 32 columns</p>\n</div>"
     },
     "metadata": {},
     "execution_count": 65
    }
   ],
   "source": [
    "df_male_classed.head()"
   ]
  },
  {
   "cell_type": "code",
   "execution_count": 83,
   "metadata": {},
   "outputs": [],
   "source": [
    "#Combine Datasets of 2 Genders for getting dictionary with {\"iid\": \"class\"}\n",
    "df_combine_genders=pd.concat([df_female_classed,df_male_classed])"
   ]
  },
  {
   "cell_type": "code",
   "execution_count": 87,
   "metadata": {},
   "outputs": [],
   "source": [
    "#Create Dictionary {\"iid\": \"class\"}\n",
    "dict_iid_class=pd.Series(df_combine_genders[\"class\"].values,index=df_combine_genders[\"iid\"]).to_dict()"
   ]
  },
  {
   "cell_type": "code",
   "execution_count": 128,
   "metadata": {},
   "outputs": [],
   "source": [
    "# dict_iid_class"
   ]
  },
  {
   "cell_type": "code",
   "execution_count": 92,
   "metadata": {},
   "outputs": [
    {
     "output_type": "execute_result",
     "data": {
      "text/plain": [
       "551"
      ]
     },
     "metadata": {},
     "execution_count": 92
    }
   ],
   "source": [
    "len(dict_iid_class)"
   ]
  },
  {
   "cell_type": "code",
   "execution_count": 93,
   "metadata": {},
   "outputs": [],
   "source": [
    " #Create new column \"class\" in original dataframe to add class information\n",
    " df[\"class\"]=df[\"iid\"].apply(lambda x:dict_iid_class.get(x))"
   ]
  },
  {
   "cell_type": "code",
   "execution_count": 94,
   "metadata": {},
   "outputs": [
    {
     "output_type": "execute_result",
     "data": {
      "text/plain": [
       "      iid    id  gender  idg  condtn  wave  round  position  positin1  order  \\\n",
       "0       1   1.0       0    1       1     1     10         7       NaN      4   \n",
       "1       1   1.0       0    1       1     1     10         7       NaN      3   \n",
       "2       1   1.0       0    1       1     1     10         7       NaN     10   \n",
       "3       1   1.0       0    1       1     1     10         7       NaN      5   \n",
       "4       1   1.0       0    1       1     1     10         7       NaN      7   \n",
       "...   ...   ...     ...  ...     ...   ...    ...       ...       ...    ...   \n",
       "8373  552  22.0       1   44       2    21     22        14      10.0      5   \n",
       "8374  552  22.0       1   44       2    21     22        13      10.0      4   \n",
       "8375  552  22.0       1   44       2    21     22        19      10.0     10   \n",
       "8376  552  22.0       1   44       2    21     22         3      10.0     16   \n",
       "8377  552   NaN       1   44       2    21     22         2      10.0     15   \n",
       "\n",
       "      ...  sinc3_3  intel3_3  fun3_3  amb3_3  attr5_3  sinc5_3  intel5_3  \\\n",
       "0     ...      7.0       7.0     7.0     7.0      NaN      NaN       NaN   \n",
       "1     ...      7.0       7.0     7.0     7.0      NaN      NaN       NaN   \n",
       "2     ...      7.0       7.0     7.0     7.0      NaN      NaN       NaN   \n",
       "3     ...      7.0       7.0     7.0     7.0      NaN      NaN       NaN   \n",
       "4     ...      7.0       7.0     7.0     7.0      NaN      NaN       NaN   \n",
       "...   ...      ...       ...     ...     ...      ...      ...       ...   \n",
       "8373  ...      5.0       7.0     6.0     7.0      9.0      5.0       9.0   \n",
       "8374  ...      5.0       7.0     6.0     7.0      9.0      5.0       9.0   \n",
       "8375  ...      5.0       7.0     6.0     7.0      9.0      5.0       9.0   \n",
       "8376  ...      5.0       7.0     6.0     7.0      9.0      5.0       9.0   \n",
       "8377  ...      5.0       7.0     6.0     7.0      9.0      5.0       9.0   \n",
       "\n",
       "      fun5_3  amb5_3  class  \n",
       "0        NaN     NaN     f0  \n",
       "1        NaN     NaN     f0  \n",
       "2        NaN     NaN     f0  \n",
       "3        NaN     NaN     f0  \n",
       "4        NaN     NaN     f0  \n",
       "...      ...     ...    ...  \n",
       "8373     5.0     6.0     m1  \n",
       "8374     5.0     6.0     m1  \n",
       "8375     5.0     6.0     m1  \n",
       "8376     5.0     6.0     m1  \n",
       "8377     5.0     6.0     m1  \n",
       "\n",
       "[8378 rows x 196 columns]"
      ],
      "text/html": "<div>\n<style scoped>\n    .dataframe tbody tr th:only-of-type {\n        vertical-align: middle;\n    }\n\n    .dataframe tbody tr th {\n        vertical-align: top;\n    }\n\n    .dataframe thead th {\n        text-align: right;\n    }\n</style>\n<table border=\"1\" class=\"dataframe\">\n  <thead>\n    <tr style=\"text-align: right;\">\n      <th></th>\n      <th>iid</th>\n      <th>id</th>\n      <th>gender</th>\n      <th>idg</th>\n      <th>condtn</th>\n      <th>wave</th>\n      <th>round</th>\n      <th>position</th>\n      <th>positin1</th>\n      <th>order</th>\n      <th>...</th>\n      <th>sinc3_3</th>\n      <th>intel3_3</th>\n      <th>fun3_3</th>\n      <th>amb3_3</th>\n      <th>attr5_3</th>\n      <th>sinc5_3</th>\n      <th>intel5_3</th>\n      <th>fun5_3</th>\n      <th>amb5_3</th>\n      <th>class</th>\n    </tr>\n  </thead>\n  <tbody>\n    <tr>\n      <th>0</th>\n      <td>1</td>\n      <td>1.0</td>\n      <td>0</td>\n      <td>1</td>\n      <td>1</td>\n      <td>1</td>\n      <td>10</td>\n      <td>7</td>\n      <td>NaN</td>\n      <td>4</td>\n      <td>...</td>\n      <td>7.0</td>\n      <td>7.0</td>\n      <td>7.0</td>\n      <td>7.0</td>\n      <td>NaN</td>\n      <td>NaN</td>\n      <td>NaN</td>\n      <td>NaN</td>\n      <td>NaN</td>\n      <td>f0</td>\n    </tr>\n    <tr>\n      <th>1</th>\n      <td>1</td>\n      <td>1.0</td>\n      <td>0</td>\n      <td>1</td>\n      <td>1</td>\n      <td>1</td>\n      <td>10</td>\n      <td>7</td>\n      <td>NaN</td>\n      <td>3</td>\n      <td>...</td>\n      <td>7.0</td>\n      <td>7.0</td>\n      <td>7.0</td>\n      <td>7.0</td>\n      <td>NaN</td>\n      <td>NaN</td>\n      <td>NaN</td>\n      <td>NaN</td>\n      <td>NaN</td>\n      <td>f0</td>\n    </tr>\n    <tr>\n      <th>2</th>\n      <td>1</td>\n      <td>1.0</td>\n      <td>0</td>\n      <td>1</td>\n      <td>1</td>\n      <td>1</td>\n      <td>10</td>\n      <td>7</td>\n      <td>NaN</td>\n      <td>10</td>\n      <td>...</td>\n      <td>7.0</td>\n      <td>7.0</td>\n      <td>7.0</td>\n      <td>7.0</td>\n      <td>NaN</td>\n      <td>NaN</td>\n      <td>NaN</td>\n      <td>NaN</td>\n      <td>NaN</td>\n      <td>f0</td>\n    </tr>\n    <tr>\n      <th>3</th>\n      <td>1</td>\n      <td>1.0</td>\n      <td>0</td>\n      <td>1</td>\n      <td>1</td>\n      <td>1</td>\n      <td>10</td>\n      <td>7</td>\n      <td>NaN</td>\n      <td>5</td>\n      <td>...</td>\n      <td>7.0</td>\n      <td>7.0</td>\n      <td>7.0</td>\n      <td>7.0</td>\n      <td>NaN</td>\n      <td>NaN</td>\n      <td>NaN</td>\n      <td>NaN</td>\n      <td>NaN</td>\n      <td>f0</td>\n    </tr>\n    <tr>\n      <th>4</th>\n      <td>1</td>\n      <td>1.0</td>\n      <td>0</td>\n      <td>1</td>\n      <td>1</td>\n      <td>1</td>\n      <td>10</td>\n      <td>7</td>\n      <td>NaN</td>\n      <td>7</td>\n      <td>...</td>\n      <td>7.0</td>\n      <td>7.0</td>\n      <td>7.0</td>\n      <td>7.0</td>\n      <td>NaN</td>\n      <td>NaN</td>\n      <td>NaN</td>\n      <td>NaN</td>\n      <td>NaN</td>\n      <td>f0</td>\n    </tr>\n    <tr>\n      <th>...</th>\n      <td>...</td>\n      <td>...</td>\n      <td>...</td>\n      <td>...</td>\n      <td>...</td>\n      <td>...</td>\n      <td>...</td>\n      <td>...</td>\n      <td>...</td>\n      <td>...</td>\n      <td>...</td>\n      <td>...</td>\n      <td>...</td>\n      <td>...</td>\n      <td>...</td>\n      <td>...</td>\n      <td>...</td>\n      <td>...</td>\n      <td>...</td>\n      <td>...</td>\n      <td>...</td>\n    </tr>\n    <tr>\n      <th>8373</th>\n      <td>552</td>\n      <td>22.0</td>\n      <td>1</td>\n      <td>44</td>\n      <td>2</td>\n      <td>21</td>\n      <td>22</td>\n      <td>14</td>\n      <td>10.0</td>\n      <td>5</td>\n      <td>...</td>\n      <td>5.0</td>\n      <td>7.0</td>\n      <td>6.0</td>\n      <td>7.0</td>\n      <td>9.0</td>\n      <td>5.0</td>\n      <td>9.0</td>\n      <td>5.0</td>\n      <td>6.0</td>\n      <td>m1</td>\n    </tr>\n    <tr>\n      <th>8374</th>\n      <td>552</td>\n      <td>22.0</td>\n      <td>1</td>\n      <td>44</td>\n      <td>2</td>\n      <td>21</td>\n      <td>22</td>\n      <td>13</td>\n      <td>10.0</td>\n      <td>4</td>\n      <td>...</td>\n      <td>5.0</td>\n      <td>7.0</td>\n      <td>6.0</td>\n      <td>7.0</td>\n      <td>9.0</td>\n      <td>5.0</td>\n      <td>9.0</td>\n      <td>5.0</td>\n      <td>6.0</td>\n      <td>m1</td>\n    </tr>\n    <tr>\n      <th>8375</th>\n      <td>552</td>\n      <td>22.0</td>\n      <td>1</td>\n      <td>44</td>\n      <td>2</td>\n      <td>21</td>\n      <td>22</td>\n      <td>19</td>\n      <td>10.0</td>\n      <td>10</td>\n      <td>...</td>\n      <td>5.0</td>\n      <td>7.0</td>\n      <td>6.0</td>\n      <td>7.0</td>\n      <td>9.0</td>\n      <td>5.0</td>\n      <td>9.0</td>\n      <td>5.0</td>\n      <td>6.0</td>\n      <td>m1</td>\n    </tr>\n    <tr>\n      <th>8376</th>\n      <td>552</td>\n      <td>22.0</td>\n      <td>1</td>\n      <td>44</td>\n      <td>2</td>\n      <td>21</td>\n      <td>22</td>\n      <td>3</td>\n      <td>10.0</td>\n      <td>16</td>\n      <td>...</td>\n      <td>5.0</td>\n      <td>7.0</td>\n      <td>6.0</td>\n      <td>7.0</td>\n      <td>9.0</td>\n      <td>5.0</td>\n      <td>9.0</td>\n      <td>5.0</td>\n      <td>6.0</td>\n      <td>m1</td>\n    </tr>\n    <tr>\n      <th>8377</th>\n      <td>552</td>\n      <td>NaN</td>\n      <td>1</td>\n      <td>44</td>\n      <td>2</td>\n      <td>21</td>\n      <td>22</td>\n      <td>2</td>\n      <td>10.0</td>\n      <td>15</td>\n      <td>...</td>\n      <td>5.0</td>\n      <td>7.0</td>\n      <td>6.0</td>\n      <td>7.0</td>\n      <td>9.0</td>\n      <td>5.0</td>\n      <td>9.0</td>\n      <td>5.0</td>\n      <td>6.0</td>\n      <td>m1</td>\n    </tr>\n  </tbody>\n</table>\n<p>8378 rows × 196 columns</p>\n</div>"
     },
     "metadata": {},
     "execution_count": 94
    }
   ],
   "source": [
    "df"
   ]
  },
  {
   "cell_type": "code",
   "execution_count": 102,
   "metadata": {},
   "outputs": [],
   "source": [
    "# df.to_csv(\"df_classed.csv\")"
   ]
  }
 ]
}